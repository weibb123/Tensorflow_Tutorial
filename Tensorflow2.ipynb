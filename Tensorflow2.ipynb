{
 "cells": [
  {
   "cell_type": "markdown",
   "metadata": {},
   "source": [
    "# Regression with Tensorflow"
   ]
  },
  {
   "cell_type": "code",
   "execution_count": 1,
   "metadata": {},
   "outputs": [
    {
     "name": "stdout",
     "output_type": "stream",
     "text": [
      "2.6.0\n"
     ]
    },
    {
     "data": {
      "text/plain": [
       "<matplotlib.collections.PathCollection at 0x23de4ab5670>"
      ]
     },
     "execution_count": 1,
     "metadata": {},
     "output_type": "execute_result"
    },
    {
     "data": {
      "image/png": "[encoded data removed]",
      "text/plain": [
       "<Figure size 432x288 with 1 Axes>"
      ]
     },
     "metadata": {
      "needs_background": "light"
     },
     "output_type": "display_data"
    }
   ],
   "source": [
    "import tensorflow as tf\n",
    "print(tf.__version__)\n",
    "import numpy as np\n",
    "import matplotlib.pyplot as plt\n",
    "\n",
    "# Create features\n",
    "X = np.array([-7.0, -4.0, -1.0, 2.0, 5.0, 8.0, 11.0, 14.0])\n",
    "\n",
    "# Create labels\n",
    "y = np.array([3.0, 6.0, 9.0, 12.0, 15.0, 18.0, 21.0, 24.0])\n",
    "\n",
    "# Visualize data\n",
    "plt.scatter(X,y)"
   ]
  },
  {
   "cell_type": "code",
   "execution_count": 2,
   "metadata": {},
   "outputs": [
    {
     "data": {
      "text/plain": [
       "((), ())"
      ]
     },
     "execution_count": 2,
     "metadata": {},
     "output_type": "execute_result"
    }
   ],
   "source": [
    "input_shape = X[0].shape\n",
    "output_shape = y[0].shape\n",
    "\n",
    "input_shape, output_shape"
   ]
  },
  {
   "cell_type": "markdown",
   "metadata": {},
   "source": [
    "## Steps in modelling with TensorFlow\n",
    "\n",
    "Creating a model\\\n",
    "Compiling a model\\\n",
    "Fitting a model"
   ]
  },
  {
   "cell_type": "code",
   "execution_count": 3,
   "metadata": {},
   "outputs": [
    {
     "name": "stdout",
     "output_type": "stream",
     "text": [
      "Epoch 1/5\n",
      "1/1 [==============================] - 1s 951ms/step - loss: 11.5048 - mae: 11.5048\n",
      "Epoch 2/5\n",
      "1/1 [==============================] - 0s 2ms/step - loss: 11.3723 - mae: 11.3723\n",
      "Epoch 3/5\n",
      "1/1 [==============================] - 0s 1000us/step - loss: 11.2398 - mae: 11.2398\n",
      "Epoch 4/5\n",
      "1/1 [==============================] - 0s 2ms/step - loss: 11.1073 - mae: 11.1073\n",
      "Epoch 5/5\n",
      "1/1 [==============================] - 0s 1ms/step - loss: 10.9748 - mae: 10.9748\n"
     ]
    },
    {
     "data": {
      "text/plain": [
       "<keras.callbacks.History at 0x23decbda4c0>"
      ]
     },
     "execution_count": 3,
     "metadata": {},
     "output_type": "execute_result"
    }
   ],
   "source": [
    "# Set random seed\n",
    "tf.random.set_seed(42)\n",
    "\n",
    "# Create a model using the Sequential API\n",
    "model = tf.keras.Sequential([\n",
    "    tf.keras.layers.Dense(1)\n",
    "])\n",
    "\n",
    "# Compile the model\n",
    "model.compile(loss=tf.keras.losses.mae, # mean abs error\n",
    "                optimizer=tf.keras.optimizers.SGD(),\n",
    "                metrics=['mae'])\n",
    "\n",
    "# Fit the model\n",
    "# model.fit(tf.expand_dims(X, axis=-1), y, epochs=5) This only works at tensorflow 2.7.0+\n",
    "model.fit(X, y, epochs=5)        "
   ]
  },
  {
   "cell_type": "code",
   "execution_count": 4,
   "metadata": {},
   "outputs": [
    {
     "data": {
      "text/plain": [
       "(array([-7., -4., -1.,  2.,  5.,  8., 11., 14.]),\n",
       " array([ 3.,  6.,  9., 12., 15., 18., 21., 24.]))"
      ]
     },
     "execution_count": 4,
     "metadata": {},
     "output_type": "execute_result"
    }
   ],
   "source": [
    "# After training a model to figure out the patterns between X and y\n",
    "# How do you think it went?\n",
    "# Check out X and y\n",
    "X, y\n"
   ]
  },
  {
   "cell_type": "code",
   "execution_count": 5,
   "metadata": {},
   "outputs": [
    {
     "data": {
      "text/plain": [
       "array([[12.716021]], dtype=float32)"
      ]
     },
     "execution_count": 5,
     "metadata": {},
     "output_type": "execute_result"
    }
   ],
   "source": [
    "# Make a prediction with the model\n",
    "model.predict([17.0])"
   ]
  },
  {
   "cell_type": "markdown",
   "metadata": {},
   "source": [
    "It doesn't predict well, it should've output something close to 27.0\\\n",
    "Lets improve our model and train again!"
   ]
  },
  {
   "cell_type": "code",
   "execution_count": null,
   "metadata": {},
   "outputs": [],
   "source": [
    "# Set random seed\n",
    "tf.random.set_seed(42)\n",
    "\n",
    "# Create a model using the Sequential API\n",
    "model = tf.keras.Sequential([\n",
    "    tf.keras.layers.Dense(1)\n",
    "])\n",
    "\n",
    "# Compile the model\n",
    "model.compile(loss=tf.keras.losses.mae, # mean abs error\n",
    "                optimizer=tf.keras.optimizers.SGD(),\n",
    "                metrics=['mae'])\n",
    "\n",
    "# Fit the model\n",
    "# model.fit(tf.expand_dims(X, axis=-1), y, epochs=5) This only works at tensorflow 2.7.0+\n",
    "model.fit(X, y, epochs=100)   "
   ]
  },
  {
   "cell_type": "code",
   "execution_count": 7,
   "metadata": {},
   "outputs": [
    {
     "data": {
      "text/plain": [
       "(array([-7., -4., -1.,  2.,  5.,  8., 11., 14.]),\n",
       " array([ 3.,  6.,  9., 12., 15., 18., 21., 24.]))"
      ]
     },
     "execution_count": 7,
     "metadata": {},
     "output_type": "execute_result"
    }
   ],
   "source": [
    "X, y"
   ]
  },
  {
   "cell_type": "code",
   "execution_count": 8,
   "metadata": {},
   "outputs": [
    {
     "data": {
      "text/plain": [
       "array([[30.158512]], dtype=float32)"
      ]
     },
     "execution_count": 8,
     "metadata": {},
     "output_type": "execute_result"
    }
   ],
   "source": [
    "# Try and predict again\n",
    "model.predict([17.0]) # The right answer is 27.0"
   ]
  },
  {
   "cell_type": "markdown",
   "metadata": {},
   "source": [
    "We can still improve the model. But we will move on to next stage.\\\n",
    "Evaluate a model\\\n",
    "The best way to evaluate a model is to make a bigger dataset"
   ]
  },
  {
   "cell_type": "code",
   "execution_count": 15,
   "metadata": {},
   "outputs": [
    {
     "name": "stdout",
     "output_type": "stream",
     "text": [
      "(50,)\n"
     ]
    }
   ],
   "source": [
    "# Make a bigger dataset\n",
    "X = np.arange(-100, 100, 4)\n",
    "print(X.shape)"
   ]
  },
  {
   "cell_type": "code",
   "execution_count": 10,
   "metadata": {},
   "outputs": [
    {
     "data": {
      "text/plain": [
       "array([-90, -86, -82, -78, -74, -70, -66, -62, -58, -54, -50, -46, -42,\n",
       "       -38, -34, -30, -26, -22, -18, -14, -10,  -6,  -2,   2,   6,  10,\n",
       "        14,  18,  22,  26,  30,  34,  38,  42,  46,  50,  54,  58,  62,\n",
       "        66,  70,  74,  78,  82,  86,  90,  94,  98, 102, 106])"
      ]
     },
     "execution_count": 10,
     "metadata": {},
     "output_type": "execute_result"
    }
   ],
   "source": [
    "# Make labels for the dataset\n",
    "y = np.arange(-90, 110, 4)\n",
    "y"
   ]
  },
  {
   "cell_type": "code",
   "execution_count": 11,
   "metadata": {},
   "outputs": [
    {
     "data": {
      "text/plain": [
       "array([-90, -86, -82, -78, -74, -70, -66, -62, -58, -54, -50, -46, -42,\n",
       "       -38, -34, -30, -26, -22, -18, -14, -10,  -6,  -2,   2,   6,  10,\n",
       "        14,  18,  22,  26,  30,  34,  38,  42,  46,  50,  54,  58,  62,\n",
       "        66,  70,  74,  78,  82,  86,  90,  94,  98, 102, 106])"
      ]
     },
     "execution_count": 11,
     "metadata": {},
     "output_type": "execute_result"
    }
   ],
   "source": [
    "# Same result as above\n",
    "y = X + 10\n",
    "y"
   ]
  },
  {
   "cell_type": "markdown",
   "metadata": {},
   "source": [
    "## Split data into training/test set"
   ]
  },
  {
   "cell_type": "code",
   "execution_count": 12,
   "metadata": {},
   "outputs": [
    {
     "data": {
      "text/plain": [
       "50"
      ]
     },
     "execution_count": 12,
     "metadata": {},
     "output_type": "execute_result"
    }
   ],
   "source": [
    "# check samples in X\n",
    "len(X)\n"
   ]
  },
  {
   "cell_type": "code",
   "execution_count": 13,
   "metadata": {},
   "outputs": [
    {
     "data": {
      "text/plain": [
       "(40, 10)"
      ]
     },
     "execution_count": 13,
     "metadata": {},
     "output_type": "execute_result"
    }
   ],
   "source": [
    "# Split data into train and test sets\n",
    "X_train = X[:40] # 80 % of data\n",
    "y_train = y[:40] # 80 % of data\n",
    "\n",
    "X_test = X[40:] # last 10 examples -> (20% of data)\n",
    "y_test = y[40:]\n",
    "\n",
    "len(X_train), len(X_test)"
   ]
  },
  {
   "cell_type": "markdown",
   "metadata": {},
   "source": [
    "## Visualizing the data"
   ]
  },
  {
   "cell_type": "code",
   "execution_count": 14,
   "metadata": {},
   "outputs": [
    {
     "data": {
      "text/plain": [
       "<matplotlib.legend.Legend at 0x23f35244be0>"
      ]
     },
     "execution_count": 14,
     "metadata": {},
     "output_type": "execute_result"
    },
    {
     "data": {
      "image/png": "[encoded data removed]",
      "text/plain": [
       "<Figure size 720x504 with 1 Axes>"
      ]
     },
     "metadata": {
      "needs_background": "light"
     },
     "output_type": "display_data"
    }
   ],
   "source": [
    "plt.figure(figsize=(10,7))\n",
    "# Plot training data in blue\n",
    "plt.scatter(X_train, y_train, c='b', label='Training data')\n",
    "# Plot test data in green\n",
    "plt.scatter(X_test, y_test, c='g', label='Testing data')\n",
    "# Show the legend\n",
    "plt.legend()"
   ]
  },
  {
   "cell_type": "code",
   "execution_count": 16,
   "metadata": {},
   "outputs": [
    {
     "name": "stdout",
     "output_type": "stream",
     "text": [
      "Epoch 1/100\n",
      "2/2 [==============================] - 0s 2ms/step - loss: 15.9024 - mae: 15.9024\n",
      "Epoch 2/100\n",
      "2/2 [==============================] - 0s 2ms/step - loss: 11.2837 - mae: 11.2837\n",
      "Epoch 3/100\n",
      "2/2 [==============================] - 0s 2ms/step - loss: 11.1074 - mae: 11.1074\n",
      "Epoch 4/100\n",
      "2/2 [==============================] - 0s 2ms/step - loss: 9.2990 - mae: 9.2990\n",
      "Epoch 5/100\n",
      "2/2 [==============================] - 0s 3ms/step - loss: 10.1677 - mae: 10.1677\n",
      "Epoch 6/100\n",
      "2/2 [==============================] - 0s 2ms/step - loss: 9.4303 - mae: 9.4303\n",
      "Epoch 7/100\n",
      "2/2 [==============================] - 0s 3ms/step - loss: 8.5704 - mae: 8.5704\n",
      "Epoch 8/100\n",
      "2/2 [==============================] - 0s 3ms/step - loss: 9.0442 - mae: 9.0442\n",
      "Epoch 9/100\n",
      "2/2 [==============================] - 0s 2ms/step - loss: 18.7517 - mae: 18.7517\n",
      "Epoch 10/100\n",
      "2/2 [==============================] - 0s 3ms/step - loss: 10.1142 - mae: 10.1142\n",
      "Epoch 11/100\n",
      "2/2 [==============================] - 0s 3ms/step - loss: 8.3980 - mae: 8.3980\n",
      "Epoch 12/100\n",
      "2/2 [==============================] - 0s 3ms/step - loss: 10.6639 - mae: 10.6639\n",
      "Epoch 13/100\n",
      "2/2 [==============================] - 0s 2ms/step - loss: 9.7977 - mae: 9.7977\n",
      "Epoch 14/100\n",
      "2/2 [==============================] - 0s 1000us/step - loss: 16.0103 - mae: 16.0103\n",
      "Epoch 15/100\n",
      "2/2 [==============================] - 0s 3ms/step - loss: 11.4068 - mae: 11.4068\n",
      "Epoch 16/100\n",
      "2/2 [==============================] - 0s 3ms/step - loss: 8.5393 - mae: 8.5393\n",
      "Epoch 17/100\n",
      "2/2 [==============================] - 0s 3ms/step - loss: 13.6348 - mae: 13.6348\n",
      "Epoch 18/100\n",
      "2/2 [==============================] - 0s 2ms/step - loss: 11.4629 - mae: 11.4629\n",
      "Epoch 19/100\n",
      "2/2 [==============================] - 0s 3ms/step - loss: 17.9148 - mae: 17.9148\n",
      "Epoch 20/100\n",
      "2/2 [==============================] - 0s 2ms/step - loss: 15.0494 - mae: 15.0494\n",
      "Epoch 21/100\n",
      "2/2 [==============================] - 0s 2ms/step - loss: 11.0216 - mae: 11.0216\n",
      "Epoch 22/100\n",
      "2/2 [==============================] - 0s 1000us/step - loss: 8.1558 - mae: 8.1558\n",
      "Epoch 23/100\n",
      "2/2 [==============================] - 0s 2ms/step - loss: 9.5138 - mae: 9.5138\n",
      "Epoch 24/100\n",
      "2/2 [==============================] - 0s 2ms/step - loss: 7.6617 - mae: 7.6617\n",
      "Epoch 25/100\n",
      "2/2 [==============================] - 0s 2ms/step - loss: 13.1859 - mae: 13.1859\n",
      "Epoch 26/100\n",
      "2/2 [==============================] - 0s 3ms/step - loss: 16.4211 - mae: 16.4211\n",
      "Epoch 27/100\n",
      "2/2 [==============================] - 0s 2ms/step - loss: 13.1659 - mae: 13.1659\n",
      "Epoch 28/100\n",
      "2/2 [==============================] - 0s 2ms/step - loss: 14.2559 - mae: 14.2559\n",
      "Epoch 29/100\n",
      "2/2 [==============================] - 0s 3ms/step - loss: 10.0670 - mae: 10.0670\n",
      "Epoch 30/100\n",
      "2/2 [==============================] - 0s 3ms/step - loss: 16.3409 - mae: 16.3409\n",
      "Epoch 31/100\n",
      "2/2 [==============================] - 0s 2ms/step - loss: 23.6444 - mae: 23.6444\n",
      "Epoch 32/100\n",
      "2/2 [==============================] - 0s 2ms/step - loss: 7.6215 - mae: 7.6215\n",
      "Epoch 33/100\n",
      "2/2 [==============================] - 0s 2ms/step - loss: 9.3221 - mae: 9.3221\n",
      "Epoch 34/100\n",
      "2/2 [==============================] - 0s 2ms/step - loss: 13.7313 - mae: 13.7313\n",
      "Epoch 35/100\n",
      "2/2 [==============================] - 0s 2ms/step - loss: 11.1276 - mae: 11.1276\n",
      "Epoch 36/100\n",
      "2/2 [==============================] - 0s 3ms/step - loss: 13.3222 - mae: 13.3222\n",
      "Epoch 37/100\n",
      "2/2 [==============================] - 0s 2ms/step - loss: 9.4763 - mae: 9.4763\n",
      "Epoch 38/100\n",
      "2/2 [==============================] - 0s 2ms/step - loss: 10.1381 - mae: 10.1381\n",
      "Epoch 39/100\n",
      "2/2 [==============================] - 0s 2ms/step - loss: 10.1793 - mae: 10.1793\n",
      "Epoch 40/100\n",
      "2/2 [==============================] - 0s 3ms/step - loss: 10.9137 - mae: 10.9137\n",
      "Epoch 41/100\n",
      "2/2 [==============================] - 0s 2ms/step - loss: 7.9063 - mae: 7.9063\n",
      "Epoch 42/100\n",
      "2/2 [==============================] - 0s 2ms/step - loss: 10.0914 - mae: 10.0914\n",
      "Epoch 43/100\n",
      "2/2 [==============================] - 0s 3ms/step - loss: 8.7006 - mae: 8.7006\n",
      "Epoch 44/100\n",
      "2/2 [==============================] - 0s 2ms/step - loss: 12.2047 - mae: 12.2047\n",
      "Epoch 45/100\n",
      "2/2 [==============================] - 0s 2ms/step - loss: 13.7970 - mae: 13.7970\n",
      "Epoch 46/100\n",
      "2/2 [==============================] - 0s 2ms/step - loss: 8.4687 - mae: 8.4687\n",
      "Epoch 47/100\n",
      "2/2 [==============================] - 0s 2ms/step - loss: 9.1330 - mae: 9.1330\n",
      "Epoch 48/100\n",
      "2/2 [==============================] - 0s 2ms/step - loss: 10.6190 - mae: 10.6190\n",
      "Epoch 49/100\n",
      "2/2 [==============================] - 0s 3ms/step - loss: 7.7503 - mae: 7.7503\n",
      "Epoch 50/100\n",
      "2/2 [==============================] - 0s 1000us/step - loss: 9.5407 - mae: 9.5407\n",
      "Epoch 51/100\n",
      "2/2 [==============================] - 0s 1ms/step - loss: 9.1584 - mae: 9.1584\n",
      "Epoch 52/100\n",
      "2/2 [==============================] - 0s 2ms/step - loss: 16.3630 - mae: 16.3630\n",
      "Epoch 53/100\n",
      "2/2 [==============================] - 0s 2ms/step - loss: 14.1299 - mae: 14.1299\n",
      "Epoch 54/100\n",
      "2/2 [==============================] - 0s 1ms/step - loss: 21.1247 - mae: 21.1247\n",
      "Epoch 55/100\n",
      "2/2 [==============================] - 0s 4ms/step - loss: 16.3961 - mae: 16.3961\n",
      "Epoch 56/100\n",
      "2/2 [==============================] - 0s 2ms/step - loss: 9.9806 - mae: 9.9806\n",
      "Epoch 57/100\n",
      "2/2 [==============================] - 0s 2ms/step - loss: 9.9606 - mae: 9.9606\n",
      "Epoch 58/100\n",
      "2/2 [==============================] - 0s 2ms/step - loss: 9.2209 - mae: 9.2209\n",
      "Epoch 59/100\n",
      "2/2 [==============================] - 0s 2ms/step - loss: 8.4239 - mae: 8.4239\n",
      "Epoch 60/100\n",
      "2/2 [==============================] - 0s 2ms/step - loss: 9.4869 - mae: 9.4869\n",
      "Epoch 61/100\n",
      "2/2 [==============================] - 0s 2ms/step - loss: 11.4355 - mae: 11.4355\n",
      "Epoch 62/100\n",
      "2/2 [==============================] - 0s 2ms/step - loss: 11.6887 - mae: 11.6887\n",
      "Epoch 63/100\n",
      "2/2 [==============================] - 0s 1ms/step - loss: 7.0838 - mae: 7.0838\n",
      "Epoch 64/100\n",
      "2/2 [==============================] - 0s 3ms/step - loss: 16.9675 - mae: 16.9675\n",
      "Epoch 65/100\n",
      "2/2 [==============================] - 0s 2ms/step - loss: 12.4599 - mae: 12.4599\n",
      "Epoch 66/100\n",
      "2/2 [==============================] - 0s 2ms/step - loss: 13.0184 - mae: 13.0184\n",
      "Epoch 67/100\n",
      "2/2 [==============================] - 0s 2ms/step - loss: 8.0600 - mae: 8.0600\n",
      "Epoch 68/100\n",
      "2/2 [==============================] - 0s 3ms/step - loss: 10.1888 - mae: 10.1888\n",
      "Epoch 69/100\n",
      "2/2 [==============================] - 0s 2ms/step - loss: 12.3633 - mae: 12.3633\n",
      "Epoch 70/100\n",
      "2/2 [==============================] - 0s 3ms/step - loss: 9.0516 - mae: 9.0516\n",
      "Epoch 71/100\n",
      "2/2 [==============================] - 0s 3ms/step - loss: 10.0378 - mae: 10.0378\n",
      "Epoch 72/100\n",
      "2/2 [==============================] - 0s 2ms/step - loss: 10.0516 - mae: 10.0516\n",
      "Epoch 73/100\n",
      "2/2 [==============================] - 0s 2ms/step - loss: 12.6151 - mae: 12.6151\n",
      "Epoch 74/100\n",
      "2/2 [==============================] - 0s 2ms/step - loss: 10.3819 - mae: 10.3819\n",
      "Epoch 75/100\n",
      "2/2 [==============================] - 0s 2ms/step - loss: 9.7229 - mae: 9.7229\n",
      "Epoch 76/100\n",
      "2/2 [==============================] - 0s 3ms/step - loss: 11.2252 - mae: 11.2252\n",
      "Epoch 77/100\n",
      "2/2 [==============================] - 0s 2ms/step - loss: 8.3642 - mae: 8.3642\n",
      "Epoch 78/100\n",
      "2/2 [==============================] - 0s 3ms/step - loss: 9.1274 - mae: 9.1274\n",
      "Epoch 79/100\n",
      "2/2 [==============================] - 0s 2ms/step - loss: 19.5039 - mae: 19.5039\n",
      "Epoch 80/100\n",
      "2/2 [==============================] - 0s 2ms/step - loss: 14.8945 - mae: 14.8945\n",
      "Epoch 81/100\n",
      "2/2 [==============================] - 0s 2ms/step - loss: 9.0034 - mae: 9.0034\n",
      "Epoch 82/100\n",
      "2/2 [==============================] - 0s 2ms/step - loss: 13.0206 - mae: 13.0206\n",
      "Epoch 83/100\n",
      "2/2 [==============================] - 0s 2ms/step - loss: 7.9299 - mae: 7.9299\n",
      "Epoch 84/100\n",
      "2/2 [==============================] - 0s 3ms/step - loss: 7.6872 - mae: 7.6872\n",
      "Epoch 85/100\n",
      "2/2 [==============================] - 0s 3ms/step - loss: 10.0328 - mae: 10.0328\n",
      "Epoch 86/100\n",
      "2/2 [==============================] - 0s 2ms/step - loss: 9.2433 - mae: 9.2433\n",
      "Epoch 87/100\n",
      "2/2 [==============================] - 0s 3ms/step - loss: 12.0209 - mae: 12.0209\n",
      "Epoch 88/100\n",
      "2/2 [==============================] - 0s 3ms/step - loss: 10.6389 - mae: 10.6389\n",
      "Epoch 89/100\n",
      "2/2 [==============================] - 0s 2ms/step - loss: 7.2667 - mae: 7.2667\n",
      "Epoch 90/100\n",
      "2/2 [==============================] - 0s 3ms/step - loss: 12.7786 - mae: 12.7786\n",
      "Epoch 91/100\n",
      "2/2 [==============================] - 0s 2ms/step - loss: 7.3481 - mae: 7.3481\n",
      "Epoch 92/100\n",
      "2/2 [==============================] - 0s 2ms/step - loss: 7.7175 - mae: 7.7175\n",
      "Epoch 93/100\n",
      "2/2 [==============================] - 0s 3ms/step - loss: 7.1263 - mae: 7.1263\n",
      "Epoch 94/100\n",
      "2/2 [==============================] - 0s 3ms/step - loss: 12.6190 - mae: 12.6190\n",
      "Epoch 95/100\n",
      "2/2 [==============================] - 0s 2ms/step - loss: 10.0912 - mae: 10.0912\n",
      "Epoch 96/100\n",
      "2/2 [==============================] - 0s 3ms/step - loss: 9.3558 - mae: 9.3558\n",
      "Epoch 97/100\n",
      "2/2 [==============================] - 0s 2ms/step - loss: 12.6834 - mae: 12.6834\n",
      "Epoch 98/100\n",
      "2/2 [==============================] - 0s 2ms/step - loss: 8.6762 - mae: 8.6762\n",
      "Epoch 99/100\n",
      "2/2 [==============================] - 0s 2ms/step - loss: 9.4693 - mae: 9.4693\n",
      "Epoch 100/100\n",
      "2/2 [==============================] - 0s 2ms/step - loss: 8.7067 - mae: 8.7067\n"
     ]
    },
    {
     "data": {
      "text/plain": [
       "<keras.callbacks.History at 0x23f42f43a60>"
      ]
     },
     "execution_count": 16,
     "metadata": {},
     "output_type": "execute_result"
    }
   ],
   "source": [
    "# Set random seed\n",
    "tf.random.set_seed(42)\n",
    "\n",
    "# Create a model (same as above)\n",
    "model = tf.keras.Sequential([\n",
    "    tf.keras.layers.Dense(1, input_shape=[1]) # you need to define the input_shape to the model\n",
    "])\n",
    "\n",
    "# Compile model (same as above)\n",
    "model.compile(loss=tf.keras.losses.mae,\n",
    "                optimizer=tf.keras.optimizers.SGD(),\n",
    "                metrics=['mae'])\n",
    "\n",
    "# fit the model\n",
    "model.fit(X_train, y_train, epochs=100)"
   ]
  },
  {
   "cell_type": "code",
   "execution_count": 17,
   "metadata": {},
   "outputs": [
    {
     "name": "stdout",
     "output_type": "stream",
     "text": [
      "Model: \"sequential_2\"\n",
      "_________________________________________________________________\n",
      "Layer (type)                 Output Shape              Param #   \n",
      "=================================================================\n",
      "dense_2 (Dense)              (None, 1)                 2         \n",
      "=================================================================\n",
      "Total params: 2\n",
      "Trainable params: 2\n",
      "Non-trainable params: 0\n",
      "_________________________________________________________________\n"
     ]
    }
   ],
   "source": [
    "# check summary of model\n",
    "model.summary()"
   ]
  },
  {
   "cell_type": "markdown",
   "metadata": {},
   "source": [
    "Total params -> total number of parameters in the model\\\n",
    "Trainable parameters -> These are the parameters (patterns) the model can update as it trains\\\n",
    "Non-trainable parameters -> These parameters aren't updated during training (this is typical when you bring in already learned patterns from other models for transfer learning)"
   ]
  },
  {
   "cell_type": "code",
   "execution_count": 18,
   "metadata": {},
   "outputs": [
    {
     "data": {
      "text/plain": [
       "<keras.callbacks.History at 0x23f49ad0f10>"
      ]
     },
     "execution_count": 18,
     "metadata": {},
     "output_type": "execute_result"
    }
   ],
   "source": [
    "# Fit the model to the training data\n",
    "model.fit(X_train, y_train, epochs=100, verbose=0) # verbose controls how much gets output"
   ]
  },
  {
   "cell_type": "code",
   "execution_count": 22,
   "metadata": {},
   "outputs": [],
   "source": [
    "# Visualizing the predictions\n",
    "def plot_predictions(X_train, y_train, X_test, y_test, y_preds):\n",
    "        \"\"\"Plots training data, test data and compares predictions\"\"\"\n",
    "        plt.figure(figsize=(10,7))\n",
    "        # Plot training data in blue\n",
    "        plt.scatter(X_train, y_train, c='b', label='Training data')\n",
    "        # Plot test data in green\n",
    "        plt.scatter(X_test, y_test, c='g', label='Testing data')\n",
    "        # Plot the predictions in red (predictions were made on the test data)\n",
    "        plt.scatter(X_test, y_preds, c='r', label=\"Predictions\")\n",
    "        #show legend\n",
    "        plt.legend()\n",
    "\n",
    "y_preds = model.predict(X_test)\n"
   ]
  },
  {
   "cell_type": "code",
   "execution_count": 23,
   "metadata": {},
   "outputs": [
    {
     "data": {
      "text/plain": [
       "array([[ 69.33173 ],\n",
       "       [ 73.781975],\n",
       "       [ 78.232216],\n",
       "       [ 82.68246 ],\n",
       "       [ 87.1327  ],\n",
       "       [ 91.58294 ],\n",
       "       [ 96.03318 ],\n",
       "       [100.48342 ],\n",
       "       [104.93366 ],\n",
       "       [109.383896]], dtype=float32)"
      ]
     },
     "execution_count": 23,
     "metadata": {},
     "output_type": "execute_result"
    }
   ],
   "source": [
    "y_preds"
   ]
  },
  {
   "cell_type": "code",
   "execution_count": 24,
   "metadata": {},
   "outputs": [
    {
     "data": {
      "image/png": "[encoded data removed]",
      "text/plain": [
       "<Figure size 720x504 with 1 Axes>"
      ]
     },
     "metadata": {
      "needs_background": "light"
     },
     "output_type": "display_data"
    }
   ],
   "source": [
    "plot_predictions(X_train, y_train, X_test, y_test, y_preds)"
   ]
  },
  {
   "cell_type": "code",
   "execution_count": 25,
   "metadata": {},
   "outputs": [
    {
     "name": "stdout",
     "output_type": "stream",
     "text": [
      "1/1 [==============================] - 0s 83ms/step - loss: 1.5351 - mae: 1.5351\n"
     ]
    },
    {
     "data": {
      "text/plain": [
       "[1.5350761413574219, 1.5350761413574219]"
      ]
     },
     "execution_count": 25,
     "metadata": {},
     "output_type": "execute_result"
    }
   ],
   "source": [
    "# Evaluate the model on the test set\n",
    "model.evaluate(X_test, y_test)"
   ]
  },
  {
   "cell_type": "code",
   "execution_count": 28,
   "metadata": {},
   "outputs": [
    {
     "data": {
      "text/plain": [
       "((10,), (10, 1))"
      ]
     },
     "execution_count": 28,
     "metadata": {},
     "output_type": "execute_result"
    }
   ],
   "source": [
    "# Check the tensor shapes\n",
    "y_test.shape, y_preds.shape"
   ]
  },
  {
   "cell_type": "code",
   "execution_count": 29,
   "metadata": {},
   "outputs": [
    {
     "data": {
      "text/plain": [
       "(10,)"
      ]
     },
     "execution_count": 29,
     "metadata": {},
     "output_type": "execute_result"
    }
   ],
   "source": [
    "# Notice these two have different shape, we need to squeeze(remove 1 dimension)\n",
    "y_preds.squeeze().shape"
   ]
  },
  {
   "cell_type": "code",
   "execution_count": 34,
   "metadata": {},
   "outputs": [],
   "source": [
    "def mae(y_test, y_pred):\n",
    "    \"\"\"Calculate mean absolute error between y_test and y_preds\"\"\"\n",
    "    return tf.metrics.mean_absolute_error(y_test, y_pred)\n",
    "\n",
    "def mse(y_test, y_pred):\n",
    "    \"\"\"Calculate mean squared error betweeen y_test and y_preds\"\"\"\n",
    "    return tf.metrics.mean_squared_error(y_test, y_pred)\n",
    "    "
   ]
  },
  {
   "cell_type": "markdown",
   "metadata": {},
   "source": [
    "## Compare results in Panda DF"
   ]
  },
  {
   "cell_type": "code",
   "execution_count": 43,
   "metadata": {},
   "outputs": [],
   "source": [
    "# Save a model using h5 format\n",
    "model_2.save(\"model_2.h5\")"
   ]
  },
  {
   "cell_type": "code",
   "execution_count": 45,
   "metadata": {},
   "outputs": [
    {
     "name": "stdout",
     "output_type": "stream",
     "text": [
      "Model: \"sequential_5\"\n",
      "_________________________________________________________________\n",
      "Layer (type)                 Output Shape              Param #   \n",
      "=================================================================\n",
      "dense_7 (Dense)              (None, 1)                 2         \n",
      "_________________________________________________________________\n",
      "dense_8 (Dense)              (None, 1)                 2         \n",
      "=================================================================\n",
      "Total params: 4\n",
      "Trainable params: 4\n",
      "Non-trainable params: 0\n",
      "_________________________________________________________________\n"
     ]
    }
   ],
   "source": [
    "# Load a model\n",
    "loaded_saved_model = tf.keras.models.load_model(\"model_2.h5\")\n",
    "model_2.summary()"
   ]
  },
  {
   "cell_type": "markdown",
   "metadata": {},
   "source": [
    "# Predict cost of medical insurance"
   ]
  },
  {
   "cell_type": "code",
   "execution_count": 72,
   "metadata": {},
   "outputs": [],
   "source": [
    "#Import\n",
    "import tensorflow as tf\n",
    "import pandas as pd\n",
    "import matplotlib.pyplot as plt\n"
   ]
  },
  {
   "cell_type": "code",
   "execution_count": 73,
   "metadata": {},
   "outputs": [],
   "source": [
    "# Read in insurance dataset\n",
    "df = pd.read_csv(\"https://raw.githubusercontent.com/stedy/Machine-Learning-with-R-datasets/master/insurance.csv\")"
   ]
  },
  {
   "cell_type": "code",
   "execution_count": 74,
   "metadata": {},
   "outputs": [
    {
     "data": {
      "text/html": [
       "<div>\n",
       "<style scoped>\n",
       "    .dataframe tbody tr th:only-of-type {\n",
       "        vertical-align: middle;\n",
       "    }\n",
       "\n",
       "    .dataframe tbody tr th {\n",
       "        vertical-align: top;\n",
       "    }\n",
       "\n",
       "    .dataframe thead th {\n",
       "        text-align: right;\n",
       "    }\n",
       "</style>\n",
       "<table border=\"1\" class=\"dataframe\">\n",
       "  <thead>\n",
       "    <tr style=\"text-align: right;\">\n",
       "      <th></th>\n",
       "      <th>age</th>\n",
       "      <th>sex</th>\n",
       "      <th>bmi</th>\n",
       "      <th>children</th>\n",
       "      <th>smoker</th>\n",
       "      <th>region</th>\n",
       "      <th>charges</th>\n",
       "    </tr>\n",
       "  </thead>\n",
       "  <tbody>\n",
       "    <tr>\n",
       "      <th>0</th>\n",
       "      <td>19</td>\n",
       "      <td>female</td>\n",
       "      <td>27.900</td>\n",
       "      <td>0</td>\n",
       "      <td>yes</td>\n",
       "      <td>southwest</td>\n",
       "      <td>16884.92400</td>\n",
       "    </tr>\n",
       "    <tr>\n",
       "      <th>1</th>\n",
       "      <td>18</td>\n",
       "      <td>male</td>\n",
       "      <td>33.770</td>\n",
       "      <td>1</td>\n",
       "      <td>no</td>\n",
       "      <td>southeast</td>\n",
       "      <td>1725.55230</td>\n",
       "    </tr>\n",
       "    <tr>\n",
       "      <th>2</th>\n",
       "      <td>28</td>\n",
       "      <td>male</td>\n",
       "      <td>33.000</td>\n",
       "      <td>3</td>\n",
       "      <td>no</td>\n",
       "      <td>southeast</td>\n",
       "      <td>4449.46200</td>\n",
       "    </tr>\n",
       "    <tr>\n",
       "      <th>3</th>\n",
       "      <td>33</td>\n",
       "      <td>male</td>\n",
       "      <td>22.705</td>\n",
       "      <td>0</td>\n",
       "      <td>no</td>\n",
       "      <td>northwest</td>\n",
       "      <td>21984.47061</td>\n",
       "    </tr>\n",
       "    <tr>\n",
       "      <th>4</th>\n",
       "      <td>32</td>\n",
       "      <td>male</td>\n",
       "      <td>28.880</td>\n",
       "      <td>0</td>\n",
       "      <td>no</td>\n",
       "      <td>northwest</td>\n",
       "      <td>3866.85520</td>\n",
       "    </tr>\n",
       "  </tbody>\n",
       "</table>\n",
       "</div>"
      ],
      "text/plain": [
       "   age     sex     bmi  children smoker     region      charges\n",
       "0   19  female  27.900         0    yes  southwest  16884.92400\n",
       "1   18    male  33.770         1     no  southeast   1725.55230\n",
       "2   28    male  33.000         3     no  southeast   4449.46200\n",
       "3   33    male  22.705         0     no  northwest  21984.47061\n",
       "4   32    male  28.880         0     no  northwest   3866.85520"
      ]
     },
     "execution_count": 74,
     "metadata": {},
     "output_type": "execute_result"
    }
   ],
   "source": [
    "# check out the insurance dataset\n",
    "df.head()"
   ]
  },
  {
   "cell_type": "code",
   "execution_count": 75,
   "metadata": {},
   "outputs": [
    {
     "data": {
      "text/html": [
       "<div>\n",
       "<style scoped>\n",
       "    .dataframe tbody tr th:only-of-type {\n",
       "        vertical-align: middle;\n",
       "    }\n",
       "\n",
       "    .dataframe tbody tr th {\n",
       "        vertical-align: top;\n",
       "    }\n",
       "\n",
       "    .dataframe thead th {\n",
       "        text-align: right;\n",
       "    }\n",
       "</style>\n",
       "<table border=\"1\" class=\"dataframe\">\n",
       "  <thead>\n",
       "    <tr style=\"text-align: right;\">\n",
       "      <th></th>\n",
       "      <th>age</th>\n",
       "      <th>bmi</th>\n",
       "      <th>children</th>\n",
       "      <th>charges</th>\n",
       "      <th>sex_female</th>\n",
       "      <th>sex_male</th>\n",
       "      <th>smoker_no</th>\n",
       "      <th>smoker_yes</th>\n",
       "      <th>region_northeast</th>\n",
       "      <th>region_northwest</th>\n",
       "      <th>region_southeast</th>\n",
       "      <th>region_southwest</th>\n",
       "    </tr>\n",
       "  </thead>\n",
       "  <tbody>\n",
       "    <tr>\n",
       "      <th>0</th>\n",
       "      <td>19</td>\n",
       "      <td>27.900</td>\n",
       "      <td>0</td>\n",
       "      <td>16884.92400</td>\n",
       "      <td>1</td>\n",
       "      <td>0</td>\n",
       "      <td>0</td>\n",
       "      <td>1</td>\n",
       "      <td>0</td>\n",
       "      <td>0</td>\n",
       "      <td>0</td>\n",
       "      <td>1</td>\n",
       "    </tr>\n",
       "    <tr>\n",
       "      <th>1</th>\n",
       "      <td>18</td>\n",
       "      <td>33.770</td>\n",
       "      <td>1</td>\n",
       "      <td>1725.55230</td>\n",
       "      <td>0</td>\n",
       "      <td>1</td>\n",
       "      <td>1</td>\n",
       "      <td>0</td>\n",
       "      <td>0</td>\n",
       "      <td>0</td>\n",
       "      <td>1</td>\n",
       "      <td>0</td>\n",
       "    </tr>\n",
       "    <tr>\n",
       "      <th>2</th>\n",
       "      <td>28</td>\n",
       "      <td>33.000</td>\n",
       "      <td>3</td>\n",
       "      <td>4449.46200</td>\n",
       "      <td>0</td>\n",
       "      <td>1</td>\n",
       "      <td>1</td>\n",
       "      <td>0</td>\n",
       "      <td>0</td>\n",
       "      <td>0</td>\n",
       "      <td>1</td>\n",
       "      <td>0</td>\n",
       "    </tr>\n",
       "    <tr>\n",
       "      <th>3</th>\n",
       "      <td>33</td>\n",
       "      <td>22.705</td>\n",
       "      <td>0</td>\n",
       "      <td>21984.47061</td>\n",
       "      <td>0</td>\n",
       "      <td>1</td>\n",
       "      <td>1</td>\n",
       "      <td>0</td>\n",
       "      <td>0</td>\n",
       "      <td>1</td>\n",
       "      <td>0</td>\n",
       "      <td>0</td>\n",
       "    </tr>\n",
       "    <tr>\n",
       "      <th>4</th>\n",
       "      <td>32</td>\n",
       "      <td>28.880</td>\n",
       "      <td>0</td>\n",
       "      <td>3866.85520</td>\n",
       "      <td>0</td>\n",
       "      <td>1</td>\n",
       "      <td>1</td>\n",
       "      <td>0</td>\n",
       "      <td>0</td>\n",
       "      <td>1</td>\n",
       "      <td>0</td>\n",
       "      <td>0</td>\n",
       "    </tr>\n",
       "  </tbody>\n",
       "</table>\n",
       "</div>"
      ],
      "text/plain": [
       "   age     bmi  children      charges  sex_female  sex_male  smoker_no  \\\n",
       "0   19  27.900         0  16884.92400           1         0          0   \n",
       "1   18  33.770         1   1725.55230           0         1          1   \n",
       "2   28  33.000         3   4449.46200           0         1          1   \n",
       "3   33  22.705         0  21984.47061           0         1          1   \n",
       "4   32  28.880         0   3866.85520           0         1          1   \n",
       "\n",
       "   smoker_yes  region_northeast  region_northwest  region_southeast  \\\n",
       "0           1                 0                 0                 0   \n",
       "1           0                 0                 0                 1   \n",
       "2           0                 0                 0                 1   \n",
       "3           0                 0                 1                 0   \n",
       "4           0                 0                 1                 0   \n",
       "\n",
       "   region_southwest  \n",
       "0                 1  \n",
       "1                 0  \n",
       "2                 0  \n",
       "3                 0  \n",
       "4                 0  "
      ]
     },
     "execution_count": 75,
     "metadata": {},
     "output_type": "execute_result"
    }
   ],
   "source": [
    "# we need to convert categorical data into numerical\n",
    "df_one_hot = pd.get_dummies(df)\n",
    "df_one_hot.head()"
   ]
  },
  {
   "cell_type": "code",
   "execution_count": 76,
   "metadata": {},
   "outputs": [],
   "source": [
    "# Create X & y values\n",
    "X = df_one_hot.drop('charges', axis=1)\n",
    "y = df_one_hot['charges']"
   ]
  },
  {
   "cell_type": "code",
   "execution_count": 52,
   "metadata": {},
   "outputs": [
    {
     "data": {
      "text/html": [
       "<div>\n",
       "<style scoped>\n",
       "    .dataframe tbody tr th:only-of-type {\n",
       "        vertical-align: middle;\n",
       "    }\n",
       "\n",
       "    .dataframe tbody tr th {\n",
       "        vertical-align: top;\n",
       "    }\n",
       "\n",
       "    .dataframe thead th {\n",
       "        text-align: right;\n",
       "    }\n",
       "</style>\n",
       "<table border=\"1\" class=\"dataframe\">\n",
       "  <thead>\n",
       "    <tr style=\"text-align: right;\">\n",
       "      <th></th>\n",
       "      <th>age</th>\n",
       "      <th>bmi</th>\n",
       "      <th>children</th>\n",
       "      <th>sex_female</th>\n",
       "      <th>sex_male</th>\n",
       "      <th>smoker_no</th>\n",
       "      <th>smoker_yes</th>\n",
       "      <th>region_northeast</th>\n",
       "      <th>region_northwest</th>\n",
       "      <th>region_southeast</th>\n",
       "      <th>region_southwest</th>\n",
       "    </tr>\n",
       "  </thead>\n",
       "  <tbody>\n",
       "    <tr>\n",
       "      <th>0</th>\n",
       "      <td>19</td>\n",
       "      <td>27.900</td>\n",
       "      <td>0</td>\n",
       "      <td>1</td>\n",
       "      <td>0</td>\n",
       "      <td>0</td>\n",
       "      <td>1</td>\n",
       "      <td>0</td>\n",
       "      <td>0</td>\n",
       "      <td>0</td>\n",
       "      <td>1</td>\n",
       "    </tr>\n",
       "    <tr>\n",
       "      <th>1</th>\n",
       "      <td>18</td>\n",
       "      <td>33.770</td>\n",
       "      <td>1</td>\n",
       "      <td>0</td>\n",
       "      <td>1</td>\n",
       "      <td>1</td>\n",
       "      <td>0</td>\n",
       "      <td>0</td>\n",
       "      <td>0</td>\n",
       "      <td>1</td>\n",
       "      <td>0</td>\n",
       "    </tr>\n",
       "    <tr>\n",
       "      <th>2</th>\n",
       "      <td>28</td>\n",
       "      <td>33.000</td>\n",
       "      <td>3</td>\n",
       "      <td>0</td>\n",
       "      <td>1</td>\n",
       "      <td>1</td>\n",
       "      <td>0</td>\n",
       "      <td>0</td>\n",
       "      <td>0</td>\n",
       "      <td>1</td>\n",
       "      <td>0</td>\n",
       "    </tr>\n",
       "    <tr>\n",
       "      <th>3</th>\n",
       "      <td>33</td>\n",
       "      <td>22.705</td>\n",
       "      <td>0</td>\n",
       "      <td>0</td>\n",
       "      <td>1</td>\n",
       "      <td>1</td>\n",
       "      <td>0</td>\n",
       "      <td>0</td>\n",
       "      <td>1</td>\n",
       "      <td>0</td>\n",
       "      <td>0</td>\n",
       "    </tr>\n",
       "    <tr>\n",
       "      <th>4</th>\n",
       "      <td>32</td>\n",
       "      <td>28.880</td>\n",
       "      <td>0</td>\n",
       "      <td>0</td>\n",
       "      <td>1</td>\n",
       "      <td>1</td>\n",
       "      <td>0</td>\n",
       "      <td>0</td>\n",
       "      <td>1</td>\n",
       "      <td>0</td>\n",
       "      <td>0</td>\n",
       "    </tr>\n",
       "  </tbody>\n",
       "</table>\n",
       "</div>"
      ],
      "text/plain": [
       "   age     bmi  children  sex_female  sex_male  smoker_no  smoker_yes  \\\n",
       "0   19  27.900         0           1         0          0           1   \n",
       "1   18  33.770         1           0         1          1           0   \n",
       "2   28  33.000         3           0         1          1           0   \n",
       "3   33  22.705         0           0         1          1           0   \n",
       "4   32  28.880         0           0         1          1           0   \n",
       "\n",
       "   region_northeast  region_northwest  region_southeast  region_southwest  \n",
       "0                 0                 0                 0                 1  \n",
       "1                 0                 0                 1                 0  \n",
       "2                 0                 0                 1                 0  \n",
       "3                 0                 1                 0                 0  \n",
       "4                 0                 1                 0                 0  "
      ]
     },
     "execution_count": 52,
     "metadata": {},
     "output_type": "execute_result"
    }
   ],
   "source": [
    "X.head()"
   ]
  },
  {
   "cell_type": "code",
   "execution_count": 77,
   "metadata": {},
   "outputs": [],
   "source": [
    "# Create training and test sets\n",
    "from sklearn.model_selection import train_test_split\n",
    "\n",
    "X_train, X_test, y_train, y_test = train_test_split(X, y, test_size=0.2, random_state=42)\n"
   ]
  },
  {
   "cell_type": "markdown",
   "metadata": {},
   "source": [
    "# Build Model"
   ]
  },
  {
   "cell_type": "code",
   "execution_count": null,
   "metadata": {},
   "outputs": [],
   "source": [
    "# model\n",
    "\n",
    "# Set random seed\n",
    "tf.random.set_seed(42)\n",
    "\n",
    "# Create a model (same as above)\n",
    "model = tf.keras.Sequential([\n",
    "    tf.keras.layers.Dense(100),\n",
    "    tf.keras.layers.Dense(100),\n",
    "    tf.keras.layers.Dense(100),\n",
    "    tf.keras.layers.Dense(10),\n",
    "    tf.keras.layers.Dense(1)\n",
    "])\n",
    "\n",
    "# Compile model (same as above)\n",
    "model.compile(loss=tf.keras.losses.mae,\n",
    "                optimizer=tf.keras.optimizers.Adam(),\n",
    "                metrics=['mae'])\n",
    "\n",
    "# fit the model and save the history (we can plot this)\n",
    "history = model.fit(X_train, y_train, epochs=300)\n"
   ]
  },
  {
   "cell_type": "code",
   "execution_count": 79,
   "metadata": {},
   "outputs": [
    {
     "name": "stdout",
     "output_type": "stream",
     "text": [
      "9/9 [==============================] - 0s 1ms/step - loss: 3186.9890 - mae: 3186.9890\n"
     ]
    },
    {
     "data": {
      "text/plain": [
       "[3186.989013671875, 3186.989013671875]"
      ]
     },
     "execution_count": 79,
     "metadata": {},
     "output_type": "execute_result"
    }
   ],
   "source": [
    "# Evaluate our model\n",
    "model.evaluate(X_test, y_test)"
   ]
  },
  {
   "cell_type": "code",
   "execution_count": 80,
   "metadata": {},
   "outputs": [
    {
     "data": {
      "text/plain": [
       "Text(0.5, 0, 'epochs')"
      ]
     },
     "execution_count": 80,
     "metadata": {},
     "output_type": "execute_result"
    },
    {
     "data": {
      "image/png": "[encoded data removed]",
      "text/plain": [
       "<Figure size 432x288 with 1 Axes>"
      ]
     },
     "metadata": {
      "needs_background": "light"
     },
     "output_type": "display_data"
    }
   ],
   "source": [
    "# Plot history\n",
    "pd.DataFrame(history.history).plot()\n",
    "plt.ylabel(\"loss\")\n",
    "plt.xlabel('epochs')"
   ]
  },
  {
   "cell_type": "markdown",
   "metadata": {},
   "source": [
    "# Processing Data\n",
    "Normalization -> scaling all values to between 0 and 1\\\n",
    "Standardization -> convert all data to unit variance and 0 mean\\\n",
    "\n",
    "Normalization is usually used in neural network\n"
   ]
  },
  {
   "cell_type": "code",
   "execution_count": 82,
   "metadata": {},
   "outputs": [],
   "source": [
    "from sklearn.compose import make_column_transformer\n",
    "from sklearn.preprocessing import MinMaxScaler, OneHotEncoder\n",
    "\n",
    "# Create column transformer to preprocess our data\n",
    "c = make_column_transformer(\n",
    "    (MinMaxScaler(), ['age', 'bmi', 'children']), # get all values between 0 and 1\n",
    "    (OneHotEncoder(handle_unknown='ignore'), ['sex', 'smoker', 'region'])\n",
    ")\n",
    "\n",
    "# Create X & y\n",
    "X = df.drop('charges', axis=1)\n",
    "y = df['charges']\n",
    "\n",
    "X_train, X_test, y_train, y_test = train_test_split(X, y, test_size=0.2, random_state=42)\n",
    "\n",
    "# Fit column transformer on the training data only (not on test data)\n",
    "c.fit(X_train)\n",
    "\n",
    "X_train_normal = c.transform(X_train)\n",
    "X_test_normal = c.transform(X_test)\n",
    "\n",
    "\n"
   ]
  },
  {
   "cell_type": "code",
   "execution_count": 83,
   "metadata": {},
   "outputs": [
    {
     "data": {
      "text/plain": [
       "array([0.60869565, 0.10734463, 0.4       , 1.        , 0.        ,\n",
       "       1.        , 0.        , 0.        , 1.        , 0.        ,\n",
       "       0.        ])"
      ]
     },
     "execution_count": 83,
     "metadata": {},
     "output_type": "execute_result"
    }
   ],
   "source": [
    "# Normalized and one-hot encoded example\n",
    "X_train_normal[0]"
   ]
  },
  {
   "cell_type": "code",
   "execution_count": 85,
   "metadata": {},
   "outputs": [
    {
     "data": {
      "text/plain": [
       "((1070, 11), (1070, 6))"
      ]
     },
     "execution_count": 85,
     "metadata": {},
     "output_type": "execute_result"
    }
   ],
   "source": [
    "# Notice the normalized/one-hot encoded sape is larger because of the extra columns\n",
    "X_train_normal.shape, X_train.shape"
   ]
  },
  {
   "cell_type": "markdown",
   "metadata": {},
   "source": [
    "we will use same model again"
   ]
  },
  {
   "cell_type": "code",
   "execution_count": 86,
   "metadata": {},
   "outputs": [
    {
     "name": "stdout",
     "output_type": "stream",
     "text": [
      "Epoch 1/300\n",
      "34/34 [==============================] - 0s 2ms/step - loss: 13315.5107 - mae: 13315.5107\n",
      "Epoch 2/300\n",
      "34/34 [==============================] - 0s 2ms/step - loss: 12470.9727 - mae: 12470.9727\n",
      "Epoch 3/300\n",
      "34/34 [==============================] - 0s 2ms/step - loss: 8712.4717 - mae: 8712.4717\n",
      "Epoch 4/300\n",
      "34/34 [==============================] - 0s 2ms/step - loss: 7783.5532 - mae: 7783.5532\n",
      "Epoch 5/300\n",
      "34/34 [==============================] - 0s 1ms/step - loss: 7379.9399 - mae: 7379.9399\n",
      "Epoch 6/300\n",
      "34/34 [==============================] - 0s 2ms/step - loss: 6918.7759 - mae: 6918.7759\n",
      "Epoch 7/300\n",
      "34/34 [==============================] - 0s 2ms/step - loss: 6221.2202 - mae: 6221.2202\n",
      "Epoch 8/300\n",
      "34/34 [==============================] - 0s 2ms/step - loss: 5102.2329 - mae: 5102.2329\n",
      "Epoch 9/300\n",
      "34/34 [==============================] - 0s 2ms/step - loss: 3963.2981 - mae: 3963.2981\n",
      "Epoch 10/300\n",
      "34/34 [==============================] - 0s 2ms/step - loss: 3680.0798 - mae: 3680.0798\n",
      "Epoch 11/300\n",
      "34/34 [==============================] - 0s 2ms/step - loss: 3667.2505 - mae: 3667.2505\n",
      "Epoch 12/300\n",
      "34/34 [==============================] - 0s 2ms/step - loss: 3619.3459 - mae: 3619.3459\n",
      "Epoch 13/300\n",
      "34/34 [==============================] - 0s 2ms/step - loss: 3594.7620 - mae: 3594.7620\n",
      "Epoch 14/300\n",
      "34/34 [==============================] - 0s 2ms/step - loss: 3602.5588 - mae: 3602.5588\n",
      "Epoch 15/300\n",
      "34/34 [==============================] - 0s 2ms/step - loss: 3571.1904 - mae: 3571.1904\n",
      "Epoch 16/300\n",
      "34/34 [==============================] - 0s 1ms/step - loss: 3551.1687 - mae: 3551.1687\n",
      "Epoch 17/300\n",
      "34/34 [==============================] - 0s 2ms/step - loss: 3578.3467 - mae: 3578.3467\n",
      "Epoch 18/300\n",
      "34/34 [==============================] - 0s 1ms/step - loss: 3527.6099 - mae: 3527.6099\n",
      "Epoch 19/300\n",
      "34/34 [==============================] - 0s 1ms/step - loss: 3542.2791 - mae: 3542.2791\n",
      "Epoch 20/300\n",
      "34/34 [==============================] - 0s 1ms/step - loss: 3501.8066 - mae: 3501.8066\n",
      "Epoch 21/300\n",
      "34/34 [==============================] - 0s 2ms/step - loss: 3491.4756 - mae: 3491.4756\n",
      "Epoch 22/300\n",
      "34/34 [==============================] - 0s 1ms/step - loss: 3496.6375 - mae: 3496.6375\n",
      "Epoch 23/300\n",
      "34/34 [==============================] - 0s 1ms/step - loss: 3501.3354 - mae: 3501.3354\n",
      "Epoch 24/300\n",
      "34/34 [==============================] - 0s 2ms/step - loss: 3504.2473 - mae: 3504.2473\n",
      "Epoch 25/300\n",
      "34/34 [==============================] - 0s 2ms/step - loss: 3564.2588 - mae: 3564.2588\n",
      "Epoch 26/300\n",
      "34/34 [==============================] - 0s 1ms/step - loss: 3489.6973 - mae: 3489.6973\n",
      "Epoch 27/300\n",
      "34/34 [==============================] - 0s 2ms/step - loss: 3495.6099 - mae: 3495.6099\n",
      "Epoch 28/300\n",
      "34/34 [==============================] - 0s 1ms/step - loss: 3508.4675 - mae: 3508.4675\n",
      "Epoch 29/300\n",
      "34/34 [==============================] - 0s 1ms/step - loss: 3516.2798 - mae: 3516.2798\n",
      "Epoch 30/300\n",
      "34/34 [==============================] - 0s 1ms/step - loss: 3512.3401 - mae: 3512.3401\n",
      "Epoch 31/300\n",
      "34/34 [==============================] - 0s 2ms/step - loss: 3498.8909 - mae: 3498.8909\n",
      "Epoch 32/300\n",
      "34/34 [==============================] - 0s 1ms/step - loss: 3512.3669 - mae: 3512.3669\n",
      "Epoch 33/300\n",
      "34/34 [==============================] - 0s 2ms/step - loss: 3518.8535 - mae: 3518.8535\n",
      "Epoch 34/300\n",
      "34/34 [==============================] - 0s 1ms/step - loss: 3493.7495 - mae: 3493.7495\n",
      "Epoch 35/300\n",
      "34/34 [==============================] - 0s 1ms/step - loss: 3496.7510 - mae: 3496.7510\n",
      "Epoch 36/300\n",
      "34/34 [==============================] - 0s 1ms/step - loss: 3515.0601 - mae: 3515.0601\n",
      "Epoch 37/300\n",
      "34/34 [==============================] - 0s 2ms/step - loss: 3489.2163 - mae: 3489.2163\n",
      "Epoch 38/300\n",
      "34/34 [==============================] - 0s 1ms/step - loss: 3509.4036 - mae: 3509.4036\n",
      "Epoch 39/300\n",
      "34/34 [==============================] - 0s 1ms/step - loss: 3490.8040 - mae: 3490.8040\n",
      "Epoch 40/300\n",
      "34/34 [==============================] - 0s 1ms/step - loss: 3539.6062 - mae: 3539.6062\n",
      "Epoch 41/300\n",
      "34/34 [==============================] - 0s 2ms/step - loss: 3503.4534 - mae: 3503.4534\n",
      "Epoch 42/300\n",
      "34/34 [==============================] - 0s 1ms/step - loss: 3503.1060 - mae: 3503.1060\n",
      "Epoch 43/300\n",
      "34/34 [==============================] - 0s 1ms/step - loss: 3487.6555 - mae: 3487.6555\n",
      "Epoch 44/300\n",
      "34/34 [==============================] - 0s 2ms/step - loss: 3493.2612 - mae: 3493.2612\n",
      "Epoch 45/300\n",
      "34/34 [==============================] - 0s 1ms/step - loss: 3484.1494 - mae: 3484.1494\n",
      "Epoch 46/300\n",
      "34/34 [==============================] - 0s 1ms/step - loss: 3499.8462 - mae: 3499.8462\n",
      "Epoch 47/300\n",
      "34/34 [==============================] - 0s 1ms/step - loss: 3495.3625 - mae: 3495.3625\n",
      "Epoch 48/300\n",
      "34/34 [==============================] - 0s 2ms/step - loss: 3491.6414 - mae: 3491.6414\n",
      "Epoch 49/300\n",
      "34/34 [==============================] - 0s 2ms/step - loss: 3500.7881 - mae: 3500.7881\n",
      "Epoch 50/300\n",
      "34/34 [==============================] - 0s 2ms/step - loss: 3508.1350 - mae: 3508.1350\n",
      "Epoch 51/300\n",
      "34/34 [==============================] - 0s 2ms/step - loss: 3491.9036 - mae: 3491.9036\n",
      "Epoch 52/300\n",
      "34/34 [==============================] - 0s 1ms/step - loss: 3487.1765 - mae: 3487.1765\n",
      "Epoch 53/300\n",
      "34/34 [==============================] - 0s 1ms/step - loss: 3488.1997 - mae: 3488.1997\n",
      "Epoch 54/300\n",
      "34/34 [==============================] - 0s 2ms/step - loss: 3512.4678 - mae: 3512.4678\n",
      "Epoch 55/300\n",
      "34/34 [==============================] - 0s 2ms/step - loss: 3521.7776 - mae: 3521.7776\n",
      "Epoch 56/300\n",
      "34/34 [==============================] - 0s 1ms/step - loss: 3491.6501 - mae: 3491.6501\n",
      "Epoch 57/300\n",
      "34/34 [==============================] - 0s 1ms/step - loss: 3495.0991 - mae: 3495.0991\n",
      "Epoch 58/300\n",
      "34/34 [==============================] - 0s 1ms/step - loss: 3491.1907 - mae: 3491.1907\n",
      "Epoch 59/300\n",
      "34/34 [==============================] - 0s 1ms/step - loss: 3499.2429 - mae: 3499.2429\n",
      "Epoch 60/300\n",
      "34/34 [==============================] - 0s 2ms/step - loss: 3504.5437 - mae: 3504.5437\n",
      "Epoch 61/300\n",
      "34/34 [==============================] - 0s 1ms/step - loss: 3505.9043 - mae: 3505.9043\n",
      "Epoch 62/300\n",
      "34/34 [==============================] - 0s 2ms/step - loss: 3504.8821 - mae: 3504.8821\n",
      "Epoch 63/300\n",
      "34/34 [==============================] - 0s 2ms/step - loss: 3489.0425 - mae: 3489.0425\n",
      "Epoch 64/300\n",
      "34/34 [==============================] - 0s 1ms/step - loss: 3491.4431 - mae: 3491.4431\n",
      "Epoch 65/300\n",
      "34/34 [==============================] - 0s 1ms/step - loss: 3485.7820 - mae: 3485.7820\n",
      "Epoch 66/300\n",
      "34/34 [==============================] - 0s 1ms/step - loss: 3507.3640 - mae: 3507.3640\n",
      "Epoch 67/300\n",
      "34/34 [==============================] - 0s 2ms/step - loss: 3492.6716 - mae: 3492.6716\n",
      "Epoch 68/300\n",
      "34/34 [==============================] - 0s 1ms/step - loss: 3495.6223 - mae: 3495.6223\n",
      "Epoch 69/300\n",
      "34/34 [==============================] - 0s 2ms/step - loss: 3487.9031 - mae: 3487.9031\n",
      "Epoch 70/300\n",
      "34/34 [==============================] - 0s 2ms/step - loss: 3492.7800 - mae: 3492.7800\n",
      "Epoch 71/300\n",
      "34/34 [==============================] - 0s 2ms/step - loss: 3491.2864 - mae: 3491.2864\n",
      "Epoch 72/300\n",
      "34/34 [==============================] - 0s 1ms/step - loss: 3492.1567 - mae: 3492.1567\n",
      "Epoch 73/300\n",
      "34/34 [==============================] - 0s 1ms/step - loss: 3525.4353 - mae: 3525.4353\n",
      "Epoch 74/300\n",
      "34/34 [==============================] - 0s 1ms/step - loss: 3516.1777 - mae: 3516.1777\n",
      "Epoch 75/300\n",
      "34/34 [==============================] - 0s 1ms/step - loss: 3488.0090 - mae: 3488.0090\n",
      "Epoch 76/300\n",
      "34/34 [==============================] - 0s 2ms/step - loss: 3500.9646 - mae: 3500.9646\n",
      "Epoch 77/300\n",
      "34/34 [==============================] - 0s 1ms/step - loss: 3485.3406 - mae: 3485.3406\n",
      "Epoch 78/300\n",
      "34/34 [==============================] - 0s 2ms/step - loss: 3500.5635 - mae: 3500.5635\n",
      "Epoch 79/300\n",
      "34/34 [==============================] - 0s 2ms/step - loss: 3508.9285 - mae: 3508.9285\n",
      "Epoch 80/300\n",
      "34/34 [==============================] - 0s 2ms/step - loss: 3509.5581 - mae: 3509.5581\n",
      "Epoch 81/300\n",
      "34/34 [==============================] - 0s 2ms/step - loss: 3508.5469 - mae: 3508.5469\n",
      "Epoch 82/300\n",
      "34/34 [==============================] - 0s 2ms/step - loss: 3499.0500 - mae: 3499.0500\n",
      "Epoch 83/300\n",
      "34/34 [==============================] - 0s 1ms/step - loss: 3508.0547 - mae: 3508.0547\n",
      "Epoch 84/300\n",
      "34/34 [==============================] - 0s 2ms/step - loss: 3502.4619 - mae: 3502.4619\n",
      "Epoch 85/300\n",
      "34/34 [==============================] - 0s 1ms/step - loss: 3482.7737 - mae: 3482.7737\n",
      "Epoch 86/300\n",
      "34/34 [==============================] - 0s 2ms/step - loss: 3487.4314 - mae: 3487.4314\n",
      "Epoch 87/300\n",
      "34/34 [==============================] - 0s 1ms/step - loss: 3490.6956 - mae: 3490.6956\n",
      "Epoch 88/300\n",
      "34/34 [==============================] - 0s 1ms/step - loss: 3488.7397 - mae: 3488.7397\n",
      "Epoch 89/300\n",
      "34/34 [==============================] - 0s 1ms/step - loss: 3497.4258 - mae: 3497.4258\n",
      "Epoch 90/300\n",
      "34/34 [==============================] - 0s 1ms/step - loss: 3497.4451 - mae: 3497.4451\n",
      "Epoch 91/300\n",
      "34/34 [==============================] - 0s 1ms/step - loss: 3488.3582 - mae: 3488.3582\n",
      "Epoch 92/300\n",
      "34/34 [==============================] - 0s 2ms/step - loss: 3514.4509 - mae: 3514.4509\n",
      "Epoch 93/300\n",
      "34/34 [==============================] - 0s 1ms/step - loss: 3497.1426 - mae: 3497.1426\n",
      "Epoch 94/300\n",
      "34/34 [==============================] - 0s 2ms/step - loss: 3492.6985 - mae: 3492.6985\n",
      "Epoch 95/300\n",
      "34/34 [==============================] - 0s 1ms/step - loss: 3490.9844 - mae: 3490.9844\n",
      "Epoch 96/300\n",
      "34/34 [==============================] - 0s 2ms/step - loss: 3488.4800 - mae: 3488.4800\n",
      "Epoch 97/300\n",
      "34/34 [==============================] - 0s 1ms/step - loss: 3511.4949 - mae: 3511.4949\n",
      "Epoch 98/300\n",
      "34/34 [==============================] - 0s 1ms/step - loss: 3485.0303 - mae: 3485.0303\n",
      "Epoch 99/300\n",
      "34/34 [==============================] - 0s 1ms/step - loss: 3533.1589 - mae: 3533.1589\n",
      "Epoch 100/300\n",
      "34/34 [==============================] - 0s 2ms/step - loss: 3501.5581 - mae: 3501.5581\n",
      "Epoch 101/300\n",
      "34/34 [==============================] - 0s 2ms/step - loss: 3487.5635 - mae: 3487.5635\n",
      "Epoch 102/300\n",
      "34/34 [==============================] - 0s 2ms/step - loss: 3496.6309 - mae: 3496.6309\n",
      "Epoch 103/300\n",
      "34/34 [==============================] - 0s 1ms/step - loss: 3521.4678 - mae: 3521.4678\n",
      "Epoch 104/300\n",
      "34/34 [==============================] - 0s 2ms/step - loss: 3483.0603 - mae: 3483.0603\n",
      "Epoch 105/300\n",
      "34/34 [==============================] - 0s 1ms/step - loss: 3507.4229 - mae: 3507.4229\n",
      "Epoch 106/300\n",
      "34/34 [==============================] - 0s 1ms/step - loss: 3499.3315 - mae: 3499.3315\n",
      "Epoch 107/300\n",
      "34/34 [==============================] - 0s 2ms/step - loss: 3480.4661 - mae: 3480.4661\n",
      "Epoch 108/300\n",
      "34/34 [==============================] - 0s 2ms/step - loss: 3490.5793 - mae: 3490.5793\n",
      "Epoch 109/300\n",
      "34/34 [==============================] - 0s 2ms/step - loss: 3500.4971 - mae: 3500.4971\n",
      "Epoch 110/300\n",
      "34/34 [==============================] - 0s 2ms/step - loss: 3489.9917 - mae: 3489.9917\n",
      "Epoch 111/300\n",
      "34/34 [==============================] - 0s 2ms/step - loss: 3507.3977 - mae: 3507.3977\n",
      "Epoch 112/300\n",
      "34/34 [==============================] - 0s 1ms/step - loss: 3500.9739 - mae: 3500.9739\n",
      "Epoch 113/300\n",
      "34/34 [==============================] - 0s 1ms/step - loss: 3521.8936 - mae: 3521.8936\n",
      "Epoch 114/300\n",
      "34/34 [==============================] - 0s 1ms/step - loss: 3501.0769 - mae: 3501.0769\n",
      "Epoch 115/300\n",
      "34/34 [==============================] - 0s 1ms/step - loss: 3511.2180 - mae: 3511.2180\n",
      "Epoch 116/300\n",
      "34/34 [==============================] - 0s 2ms/step - loss: 3516.9539 - mae: 3516.9539\n",
      "Epoch 117/300\n",
      "34/34 [==============================] - 0s 1ms/step - loss: 3499.7490 - mae: 3499.7490\n",
      "Epoch 118/300\n",
      "34/34 [==============================] - 0s 1ms/step - loss: 3484.0823 - mae: 3484.0823\n",
      "Epoch 119/300\n",
      "34/34 [==============================] - 0s 1ms/step - loss: 3489.9968 - mae: 3489.9968\n",
      "Epoch 120/300\n",
      "34/34 [==============================] - 0s 1ms/step - loss: 3485.4028 - mae: 3485.4028\n",
      "Epoch 121/300\n",
      "34/34 [==============================] - 0s 1ms/step - loss: 3502.3125 - mae: 3502.3125\n",
      "Epoch 122/300\n",
      "34/34 [==============================] - 0s 1ms/step - loss: 3490.8149 - mae: 3490.8149\n",
      "Epoch 123/300\n",
      "34/34 [==============================] - 0s 1ms/step - loss: 3506.3958 - mae: 3506.3958\n",
      "Epoch 124/300\n",
      "34/34 [==============================] - 0s 2ms/step - loss: 3487.8438 - mae: 3487.8438\n",
      "Epoch 125/300\n",
      "34/34 [==============================] - 0s 2ms/step - loss: 3504.1296 - mae: 3504.1296\n",
      "Epoch 126/300\n",
      "34/34 [==============================] - 0s 1ms/step - loss: 3513.3389 - mae: 3513.3389\n",
      "Epoch 127/300\n",
      "34/34 [==============================] - 0s 2ms/step - loss: 3496.5642 - mae: 3496.5642\n",
      "Epoch 128/300\n",
      "34/34 [==============================] - 0s 1ms/step - loss: 3497.6318 - mae: 3497.6318\n",
      "Epoch 129/300\n",
      "34/34 [==============================] - 0s 1ms/step - loss: 3529.2634 - mae: 3529.2634\n",
      "Epoch 130/300\n",
      "34/34 [==============================] - 0s 2ms/step - loss: 3522.1133 - mae: 3522.1133\n",
      "Epoch 131/300\n",
      "34/34 [==============================] - 0s 2ms/step - loss: 3483.2214 - mae: 3483.2214\n",
      "Epoch 132/300\n",
      "34/34 [==============================] - 0s 2ms/step - loss: 3501.9912 - mae: 3501.9912\n",
      "Epoch 133/300\n",
      "34/34 [==============================] - 0s 1ms/step - loss: 3494.6545 - mae: 3494.6545\n",
      "Epoch 134/300\n",
      "34/34 [==============================] - 0s 2ms/step - loss: 3494.1328 - mae: 3494.1328\n",
      "Epoch 135/300\n",
      "34/34 [==============================] - 0s 2ms/step - loss: 3498.7546 - mae: 3498.7546\n",
      "Epoch 136/300\n",
      "34/34 [==============================] - 0s 1ms/step - loss: 3484.6143 - mae: 3484.6143\n",
      "Epoch 137/300\n",
      "34/34 [==============================] - 0s 1ms/step - loss: 3498.0701 - mae: 3498.0701\n",
      "Epoch 138/300\n",
      "34/34 [==============================] - 0s 2ms/step - loss: 3497.9429 - mae: 3497.9429\n",
      "Epoch 139/300\n",
      "34/34 [==============================] - 0s 2ms/step - loss: 3493.0735 - mae: 3493.0735\n",
      "Epoch 140/300\n",
      "34/34 [==============================] - 0s 1ms/step - loss: 3502.4106 - mae: 3502.4106\n",
      "Epoch 141/300\n",
      "34/34 [==============================] - 0s 1ms/step - loss: 3517.9878 - mae: 3517.9878\n",
      "Epoch 142/300\n",
      "34/34 [==============================] - 0s 2ms/step - loss: 3507.4141 - mae: 3507.4141\n",
      "Epoch 143/300\n",
      "34/34 [==============================] - 0s 1ms/step - loss: 3498.3877 - mae: 3498.3877\n",
      "Epoch 144/300\n",
      "34/34 [==============================] - 0s 1ms/step - loss: 3494.6665 - mae: 3494.6665\n",
      "Epoch 145/300\n",
      "34/34 [==============================] - 0s 2ms/step - loss: 3496.9797 - mae: 3496.9797\n",
      "Epoch 146/300\n",
      "34/34 [==============================] - 0s 1ms/step - loss: 3513.1143 - mae: 3513.1143\n",
      "Epoch 147/300\n",
      "34/34 [==============================] - 0s 1ms/step - loss: 3531.3848 - mae: 3531.3848\n",
      "Epoch 148/300\n",
      "34/34 [==============================] - 0s 1ms/step - loss: 3498.6494 - mae: 3498.6494\n",
      "Epoch 149/300\n",
      "34/34 [==============================] - 0s 1ms/step - loss: 3495.5083 - mae: 3495.5083\n",
      "Epoch 150/300\n",
      "34/34 [==============================] - 0s 2ms/step - loss: 3486.1719 - mae: 3486.1719\n",
      "Epoch 151/300\n",
      "34/34 [==============================] - 0s 1ms/step - loss: 3498.9717 - mae: 3498.9717\n",
      "Epoch 152/300\n",
      "34/34 [==============================] - 0s 2ms/step - loss: 3499.6108 - mae: 3499.6108\n",
      "Epoch 153/300\n",
      "34/34 [==============================] - 0s 1ms/step - loss: 3505.5994 - mae: 3505.5994\n",
      "Epoch 154/300\n",
      "34/34 [==============================] - 0s 1ms/step - loss: 3494.9436 - mae: 3494.9436\n",
      "Epoch 155/300\n",
      "34/34 [==============================] - 0s 1ms/step - loss: 3500.3447 - mae: 3500.3447\n",
      "Epoch 156/300\n",
      "34/34 [==============================] - 0s 2ms/step - loss: 3490.7231 - mae: 3490.7231\n",
      "Epoch 157/300\n",
      "34/34 [==============================] - 0s 2ms/step - loss: 3510.3975 - mae: 3510.3975\n",
      "Epoch 158/300\n",
      "34/34 [==============================] - 0s 1ms/step - loss: 3497.2600 - mae: 3497.2600\n",
      "Epoch 159/300\n",
      "34/34 [==============================] - 0s 1ms/step - loss: 3479.7039 - mae: 3479.7039\n",
      "Epoch 160/300\n",
      "34/34 [==============================] - 0s 1ms/step - loss: 3509.2153 - mae: 3509.2153\n",
      "Epoch 161/300\n",
      "34/34 [==============================] - 0s 1ms/step - loss: 3496.8523 - mae: 3496.8523\n",
      "Epoch 162/300\n",
      "34/34 [==============================] - 0s 1ms/step - loss: 3485.8286 - mae: 3485.8286\n",
      "Epoch 163/300\n",
      "34/34 [==============================] - 0s 1ms/step - loss: 3489.0359 - mae: 3489.0359\n",
      "Epoch 164/300\n",
      "34/34 [==============================] - 0s 1ms/step - loss: 3501.4475 - mae: 3501.4475\n",
      "Epoch 165/300\n",
      "34/34 [==============================] - 0s 2ms/step - loss: 3482.0857 - mae: 3482.0857\n",
      "Epoch 166/300\n",
      "34/34 [==============================] - 0s 1ms/step - loss: 3488.2935 - mae: 3488.2935\n",
      "Epoch 167/300\n",
      "34/34 [==============================] - 0s 1ms/step - loss: 3509.0571 - mae: 3509.0571\n",
      "Epoch 168/300\n",
      "34/34 [==============================] - 0s 2ms/step - loss: 3503.8740 - mae: 3503.8740\n",
      "Epoch 169/300\n",
      "34/34 [==============================] - 0s 2ms/step - loss: 3495.9719 - mae: 3495.9719\n",
      "Epoch 170/300\n",
      "34/34 [==============================] - 0s 1ms/step - loss: 3489.5122 - mae: 3489.5122\n",
      "Epoch 171/300\n",
      "34/34 [==============================] - 0s 2ms/step - loss: 3516.9524 - mae: 3516.9524\n",
      "Epoch 172/300\n",
      "34/34 [==============================] - 0s 1ms/step - loss: 3496.6311 - mae: 3496.6311\n",
      "Epoch 173/300\n",
      "34/34 [==============================] - 0s 1ms/step - loss: 3498.2673 - mae: 3498.2673\n",
      "Epoch 174/300\n",
      "34/34 [==============================] - 0s 1ms/step - loss: 3499.3486 - mae: 3499.3486\n",
      "Epoch 175/300\n",
      "34/34 [==============================] - 0s 2ms/step - loss: 3485.8350 - mae: 3485.8350\n",
      "Epoch 176/300\n",
      "34/34 [==============================] - 0s 1ms/step - loss: 3522.2744 - mae: 3522.2744\n",
      "Epoch 177/300\n",
      "34/34 [==============================] - 0s 2ms/step - loss: 3499.7422 - mae: 3499.7422\n",
      "Epoch 178/300\n",
      "34/34 [==============================] - 0s 1ms/step - loss: 3489.8193 - mae: 3489.8193\n",
      "Epoch 179/300\n",
      "34/34 [==============================] - 0s 1ms/step - loss: 3529.5920 - mae: 3529.5920\n",
      "Epoch 180/300\n",
      "34/34 [==============================] - 0s 1ms/step - loss: 3512.9062 - mae: 3512.9062\n",
      "Epoch 181/300\n",
      "34/34 [==============================] - 0s 1ms/step - loss: 3494.1345 - mae: 3494.1345\n",
      "Epoch 182/300\n",
      "34/34 [==============================] - 0s 1ms/step - loss: 3493.1482 - mae: 3493.1482\n",
      "Epoch 183/300\n",
      "34/34 [==============================] - 0s 1ms/step - loss: 3491.8362 - mae: 3491.8362\n",
      "Epoch 184/300\n",
      "34/34 [==============================] - 0s 1ms/step - loss: 3511.6079 - mae: 3511.6079\n",
      "Epoch 185/300\n",
      "34/34 [==============================] - 0s 1ms/step - loss: 3498.8840 - mae: 3498.8840\n",
      "Epoch 186/300\n",
      "34/34 [==============================] - 0s 2ms/step - loss: 3528.7576 - mae: 3528.7576\n",
      "Epoch 187/300\n",
      "34/34 [==============================] - 0s 2ms/step - loss: 3510.6909 - mae: 3510.6909\n",
      "Epoch 188/300\n",
      "34/34 [==============================] - 0s 1ms/step - loss: 3501.8440 - mae: 3501.8440\n",
      "Epoch 189/300\n",
      "34/34 [==============================] - 0s 2ms/step - loss: 3493.8713 - mae: 3493.8713\n",
      "Epoch 190/300\n",
      "34/34 [==============================] - 0s 1ms/step - loss: 3502.6201 - mae: 3502.6201\n",
      "Epoch 191/300\n",
      "34/34 [==============================] - 0s 2ms/step - loss: 3525.8464 - mae: 3525.8464\n",
      "Epoch 192/300\n",
      "34/34 [==============================] - 0s 2ms/step - loss: 3498.0662 - mae: 3498.0662\n",
      "Epoch 193/300\n",
      "34/34 [==============================] - 0s 1ms/step - loss: 3503.3328 - mae: 3503.3328\n",
      "Epoch 194/300\n",
      "34/34 [==============================] - 0s 2ms/step - loss: 3495.4097 - mae: 3495.4097\n",
      "Epoch 195/300\n",
      "34/34 [==============================] - 0s 2ms/step - loss: 3486.5393 - mae: 3486.5393\n",
      "Epoch 196/300\n",
      "34/34 [==============================] - 0s 1ms/step - loss: 3509.2666 - mae: 3509.2666\n",
      "Epoch 197/300\n",
      "34/34 [==============================] - 0s 2ms/step - loss: 3498.8345 - mae: 3498.8345\n",
      "Epoch 198/300\n",
      "34/34 [==============================] - 0s 1ms/step - loss: 3505.7358 - mae: 3505.7358\n",
      "Epoch 199/300\n",
      "34/34 [==============================] - 0s 1ms/step - loss: 3493.5034 - mae: 3493.5034\n",
      "Epoch 200/300\n",
      "34/34 [==============================] - 0s 2ms/step - loss: 3487.5500 - mae: 3487.5500\n",
      "Epoch 201/300\n",
      "34/34 [==============================] - 0s 1ms/step - loss: 3489.9421 - mae: 3489.9421\n",
      "Epoch 202/300\n",
      "34/34 [==============================] - 0s 2ms/step - loss: 3489.4011 - mae: 3489.4011\n",
      "Epoch 203/300\n",
      "34/34 [==============================] - 0s 2ms/step - loss: 3481.6697 - mae: 3481.6697\n",
      "Epoch 204/300\n",
      "34/34 [==============================] - 0s 2ms/step - loss: 3490.3762 - mae: 3490.3762\n",
      "Epoch 205/300\n",
      "34/34 [==============================] - 0s 2ms/step - loss: 3498.9319 - mae: 3498.9319\n",
      "Epoch 206/300\n",
      "34/34 [==============================] - 0s 2ms/step - loss: 3493.4111 - mae: 3493.4111\n",
      "Epoch 207/300\n",
      "34/34 [==============================] - 0s 2ms/step - loss: 3508.8467 - mae: 3508.8467\n",
      "Epoch 208/300\n",
      "34/34 [==============================] - 0s 2ms/step - loss: 3494.8035 - mae: 3494.8035\n",
      "Epoch 209/300\n",
      "34/34 [==============================] - 0s 2ms/step - loss: 3494.7034 - mae: 3494.7034\n",
      "Epoch 210/300\n",
      "34/34 [==============================] - 0s 2ms/step - loss: 3495.3828 - mae: 3495.3828\n",
      "Epoch 211/300\n",
      "34/34 [==============================] - 0s 2ms/step - loss: 3498.1240 - mae: 3498.1240\n",
      "Epoch 212/300\n",
      "34/34 [==============================] - 0s 2ms/step - loss: 3499.5503 - mae: 3499.5503\n",
      "Epoch 213/300\n",
      "34/34 [==============================] - 0s 2ms/step - loss: 3522.5786 - mae: 3522.5786\n",
      "Epoch 214/300\n",
      "34/34 [==============================] - 0s 2ms/step - loss: 3525.5129 - mae: 3525.5129\n",
      "Epoch 215/300\n",
      "34/34 [==============================] - 0s 2ms/step - loss: 3550.2581 - mae: 3550.2581\n",
      "Epoch 216/300\n",
      "34/34 [==============================] - 0s 1ms/step - loss: 3504.0488 - mae: 3504.0488\n",
      "Epoch 217/300\n",
      "34/34 [==============================] - 0s 1ms/step - loss: 3501.7380 - mae: 3501.7380\n",
      "Epoch 218/300\n",
      "34/34 [==============================] - 0s 1ms/step - loss: 3503.6763 - mae: 3503.6763\n",
      "Epoch 219/300\n",
      "34/34 [==============================] - 0s 1ms/step - loss: 3510.4138 - mae: 3510.4138\n",
      "Epoch 220/300\n",
      "34/34 [==============================] - 0s 2ms/step - loss: 3486.6536 - mae: 3486.6536\n",
      "Epoch 221/300\n",
      "34/34 [==============================] - 0s 2ms/step - loss: 3502.8777 - mae: 3502.8777\n",
      "Epoch 222/300\n",
      "34/34 [==============================] - 0s 1ms/step - loss: 3508.1970 - mae: 3508.1970\n",
      "Epoch 223/300\n",
      "34/34 [==============================] - 0s 2ms/step - loss: 3499.0598 - mae: 3499.0598\n",
      "Epoch 224/300\n",
      "34/34 [==============================] - 0s 1ms/step - loss: 3497.3887 - mae: 3497.3887\n",
      "Epoch 225/300\n",
      "34/34 [==============================] - 0s 1ms/step - loss: 3489.3923 - mae: 3489.3923\n",
      "Epoch 226/300\n",
      "34/34 [==============================] - 0s 2ms/step - loss: 3494.4263 - mae: 3494.4263\n",
      "Epoch 227/300\n",
      "34/34 [==============================] - 0s 2ms/step - loss: 3490.4856 - mae: 3490.4856\n",
      "Epoch 228/300\n",
      "34/34 [==============================] - 0s 2ms/step - loss: 3485.5173 - mae: 3485.5173\n",
      "Epoch 229/300\n",
      "34/34 [==============================] - 0s 2ms/step - loss: 3495.7205 - mae: 3495.7205\n",
      "Epoch 230/300\n",
      "34/34 [==============================] - 0s 2ms/step - loss: 3495.0498 - mae: 3495.0498\n",
      "Epoch 231/300\n",
      "34/34 [==============================] - 0s 1ms/step - loss: 3487.2690 - mae: 3487.2690\n",
      "Epoch 232/300\n",
      "34/34 [==============================] - 0s 1ms/step - loss: 3490.7634 - mae: 3490.7634\n",
      "Epoch 233/300\n",
      "34/34 [==============================] - 0s 1ms/step - loss: 3491.5522 - mae: 3491.5522\n",
      "Epoch 234/300\n",
      "34/34 [==============================] - 0s 1ms/step - loss: 3499.1855 - mae: 3499.1855\n",
      "Epoch 235/300\n",
      "34/34 [==============================] - 0s 2ms/step - loss: 3508.8035 - mae: 3508.8035\n",
      "Epoch 236/300\n",
      "34/34 [==============================] - 0s 1ms/step - loss: 3497.6392 - mae: 3497.6392\n",
      "Epoch 237/300\n",
      "34/34 [==============================] - 0s 2ms/step - loss: 3504.2932 - mae: 3504.2932\n",
      "Epoch 238/300\n",
      "34/34 [==============================] - 0s 2ms/step - loss: 3489.1709 - mae: 3489.1709\n",
      "Epoch 239/300\n",
      "34/34 [==============================] - 0s 1ms/step - loss: 3494.7100 - mae: 3494.7100\n",
      "Epoch 240/300\n",
      "34/34 [==============================] - 0s 1ms/step - loss: 3494.0688 - mae: 3494.0688\n",
      "Epoch 241/300\n",
      "34/34 [==============================] - 0s 2ms/step - loss: 3484.3379 - mae: 3484.3379\n",
      "Epoch 242/300\n",
      "34/34 [==============================] - 0s 1ms/step - loss: 3495.9668 - mae: 3495.9668\n",
      "Epoch 243/300\n",
      "34/34 [==============================] - 0s 2ms/step - loss: 3490.3933 - mae: 3490.3933\n",
      "Epoch 244/300\n",
      "34/34 [==============================] - 0s 1ms/step - loss: 3506.6042 - mae: 3506.6042\n",
      "Epoch 245/300\n",
      "34/34 [==============================] - 0s 2ms/step - loss: 3511.8650 - mae: 3511.8650\n",
      "Epoch 246/300\n",
      "34/34 [==============================] - 0s 2ms/step - loss: 3503.8179 - mae: 3503.8179\n",
      "Epoch 247/300\n",
      "34/34 [==============================] - 0s 1ms/step - loss: 3504.3174 - mae: 3504.3174\n",
      "Epoch 248/300\n",
      "34/34 [==============================] - 0s 1ms/step - loss: 3511.9578 - mae: 3511.9578\n",
      "Epoch 249/300\n",
      "34/34 [==============================] - 0s 2ms/step - loss: 3492.0625 - mae: 3492.0625\n",
      "Epoch 250/300\n",
      "34/34 [==============================] - 0s 1ms/step - loss: 3491.7466 - mae: 3491.7466\n",
      "Epoch 251/300\n",
      "34/34 [==============================] - 0s 1ms/step - loss: 3482.6924 - mae: 3482.6924\n",
      "Epoch 252/300\n",
      "34/34 [==============================] - 0s 1ms/step - loss: 3508.8911 - mae: 3508.8911\n",
      "Epoch 253/300\n",
      "34/34 [==============================] - 0s 1ms/step - loss: 3493.5762 - mae: 3493.5762\n",
      "Epoch 254/300\n",
      "34/34 [==============================] - 0s 2ms/step - loss: 3494.1501 - mae: 3494.1501\n",
      "Epoch 255/300\n",
      "34/34 [==============================] - 0s 1ms/step - loss: 3482.9702 - mae: 3482.9702\n",
      "Epoch 256/300\n",
      "34/34 [==============================] - 0s 1ms/step - loss: 3483.5164 - mae: 3483.5164\n",
      "Epoch 257/300\n",
      "34/34 [==============================] - 0s 1ms/step - loss: 3492.3250 - mae: 3492.3250\n",
      "Epoch 258/300\n",
      "34/34 [==============================] - 0s 2ms/step - loss: 3522.8306 - mae: 3522.8306\n",
      "Epoch 259/300\n",
      "34/34 [==============================] - 0s 2ms/step - loss: 3495.4927 - mae: 3495.4927\n",
      "Epoch 260/300\n",
      "34/34 [==============================] - 0s 1ms/step - loss: 3493.4158 - mae: 3493.4158\n",
      "Epoch 261/300\n",
      "34/34 [==============================] - 0s 2ms/step - loss: 3494.3164 - mae: 3494.3164\n",
      "Epoch 262/300\n",
      "34/34 [==============================] - 0s 1ms/step - loss: 3489.1174 - mae: 3489.1174\n",
      "Epoch 263/300\n",
      "34/34 [==============================] - 0s 2ms/step - loss: 3501.0544 - mae: 3501.0544\n",
      "Epoch 264/300\n",
      "34/34 [==============================] - 0s 2ms/step - loss: 3500.3853 - mae: 3500.3853\n",
      "Epoch 265/300\n",
      "34/34 [==============================] - 0s 1ms/step - loss: 3491.1455 - mae: 3491.1455\n",
      "Epoch 266/300\n",
      "34/34 [==============================] - 0s 1ms/step - loss: 3501.7439 - mae: 3501.7439\n",
      "Epoch 267/300\n",
      "34/34 [==============================] - 0s 2ms/step - loss: 3495.0735 - mae: 3495.0735\n",
      "Epoch 268/300\n",
      "34/34 [==============================] - 0s 1ms/step - loss: 3496.6782 - mae: 3496.6782\n",
      "Epoch 269/300\n",
      "34/34 [==============================] - 0s 2ms/step - loss: 3502.8936 - mae: 3502.8936\n",
      "Epoch 270/300\n",
      "34/34 [==============================] - 0s 2ms/step - loss: 3495.3806 - mae: 3495.3806\n",
      "Epoch 271/300\n",
      "34/34 [==============================] - 0s 2ms/step - loss: 3483.8381 - mae: 3483.8381\n",
      "Epoch 272/300\n",
      "34/34 [==============================] - 0s 2ms/step - loss: 3488.7527 - mae: 3488.7527\n",
      "Epoch 273/300\n",
      "34/34 [==============================] - 0s 2ms/step - loss: 3496.7681 - mae: 3496.7681\n",
      "Epoch 274/300\n",
      "34/34 [==============================] - 0s 1ms/step - loss: 3489.8218 - mae: 3489.8218\n",
      "Epoch 275/300\n",
      "34/34 [==============================] - 0s 2ms/step - loss: 3483.7964 - mae: 3483.7964\n",
      "Epoch 276/300\n",
      "34/34 [==============================] - 0s 2ms/step - loss: 3491.3474 - mae: 3491.3474\n",
      "Epoch 277/300\n",
      "34/34 [==============================] - 0s 2ms/step - loss: 3488.4316 - mae: 3488.4316\n",
      "Epoch 278/300\n",
      "34/34 [==============================] - 0s 2ms/step - loss: 3488.4072 - mae: 3488.4072\n",
      "Epoch 279/300\n",
      "34/34 [==============================] - 0s 2ms/step - loss: 3500.6846 - mae: 3500.6846\n",
      "Epoch 280/300\n",
      "34/34 [==============================] - 0s 2ms/step - loss: 3510.5266 - mae: 3510.5266\n",
      "Epoch 281/300\n",
      "34/34 [==============================] - 0s 2ms/step - loss: 3491.4819 - mae: 3491.4819\n",
      "Epoch 282/300\n",
      "34/34 [==============================] - 0s 2ms/step - loss: 3490.7676 - mae: 3490.7676\n",
      "Epoch 283/300\n",
      "34/34 [==============================] - 0s 2ms/step - loss: 3492.9099 - mae: 3492.9099\n",
      "Epoch 284/300\n",
      "34/34 [==============================] - 0s 1ms/step - loss: 3490.1868 - mae: 3490.1868\n",
      "Epoch 285/300\n",
      "34/34 [==============================] - 0s 1ms/step - loss: 3509.7522 - mae: 3509.7522\n",
      "Epoch 286/300\n",
      "34/34 [==============================] - 0s 2ms/step - loss: 3482.1697 - mae: 3482.1697\n",
      "Epoch 287/300\n",
      "34/34 [==============================] - 0s 1ms/step - loss: 3504.0706 - mae: 3504.0706\n",
      "Epoch 288/300\n",
      "34/34 [==============================] - 0s 1ms/step - loss: 3493.2334 - mae: 3493.2334\n",
      "Epoch 289/300\n",
      "34/34 [==============================] - 0s 2ms/step - loss: 3498.2200 - mae: 3498.2200\n",
      "Epoch 290/300\n",
      "34/34 [==============================] - 0s 1ms/step - loss: 3505.2812 - mae: 3505.2812\n",
      "Epoch 291/300\n",
      "34/34 [==============================] - 0s 2ms/step - loss: 3495.8000 - mae: 3495.8000\n",
      "Epoch 292/300\n",
      "34/34 [==============================] - 0s 1ms/step - loss: 3517.0000 - mae: 3517.0000\n",
      "Epoch 293/300\n",
      "34/34 [==============================] - 0s 1ms/step - loss: 3492.3901 - mae: 3492.3901\n",
      "Epoch 294/300\n",
      "34/34 [==============================] - 0s 1ms/step - loss: 3494.2166 - mae: 3494.2166\n",
      "Epoch 295/300\n",
      "34/34 [==============================] - 0s 1ms/step - loss: 3506.6279 - mae: 3506.6279\n",
      "Epoch 296/300\n",
      "34/34 [==============================] - 0s 1ms/step - loss: 3492.8330 - mae: 3492.8330\n",
      "Epoch 297/300\n",
      "34/34 [==============================] - 0s 1ms/step - loss: 3492.6113 - mae: 3492.6113\n",
      "Epoch 298/300\n",
      "34/34 [==============================] - 0s 1ms/step - loss: 3486.0220 - mae: 3486.0220\n",
      "Epoch 299/300\n",
      "34/34 [==============================] - 0s 2ms/step - loss: 3495.5840 - mae: 3495.5840\n",
      "Epoch 300/300\n",
      "34/34 [==============================] - 0s 2ms/step - loss: 3494.8650 - mae: 3494.8650\n"
     ]
    }
   ],
   "source": [
    "# model\n",
    "\n",
    "# Set random seed\n",
    "tf.random.set_seed(42)\n",
    "\n",
    "# Create a model (same as above)\n",
    "model = tf.keras.Sequential([\n",
    "    tf.keras.layers.Dense(100),\n",
    "    tf.keras.layers.Dense(100),\n",
    "    tf.keras.layers.Dense(100),\n",
    "    tf.keras.layers.Dense(10),\n",
    "    tf.keras.layers.Dense(1)\n",
    "])\n",
    "\n",
    "# Compile model (same as above)\n",
    "model.compile(loss=tf.keras.losses.mae,\n",
    "                optimizer=tf.keras.optimizers.Adam(),\n",
    "                metrics=['mae'])\n",
    "\n",
    "# fit the model and save the history (we can plot this)\n",
    "history = model.fit(X_train_normal, y_train, epochs=300)"
   ]
  },
  {
   "cell_type": "code",
   "execution_count": 87,
   "metadata": {},
   "outputs": [
    {
     "name": "stdout",
     "output_type": "stream",
     "text": [
      "9/9 [==============================] - 0s 875us/step - loss: 3168.3381 - mae: 3168.3381\n"
     ]
    },
    {
     "data": {
      "text/plain": [
       "[3168.338134765625, 3168.338134765625]"
      ]
     },
     "execution_count": 87,
     "metadata": {},
     "output_type": "execute_result"
    }
   ],
   "source": [
    "# Evaluate model again\n",
    "model.evaluate(X_test_normal, y_test)"
   ]
  },
  {
   "cell_type": "code",
   "execution_count": 88,
   "metadata": {},
   "outputs": [
    {
     "data": {
      "text/plain": [
       "Text(0.5, 0, 'epochs')"
      ]
     },
     "execution_count": 88,
     "metadata": {},
     "output_type": "execute_result"
    },
    {
     "data": {
      "image/png": "[encoded data removed]",
      "text/plain": [
       "<Figure size 432x288 with 1 Axes>"
      ]
     },
     "metadata": {
      "needs_background": "light"
     },
     "output_type": "display_data"
    }
   ],
   "source": [
    "# Plot history\n",
    "pd.DataFrame(history.history).plot()\n",
    "plt.ylabel(\"loss\")\n",
    "plt.xlabel('epochs')"
   ]
  },
  {
   "cell_type": "code",
   "execution_count": null,
   "metadata": {},
   "outputs": [],
   "source": []
  }
 ],
 "metadata": {
  "interpreter": {
   "hash": "d232e6819e3a247ec75c29c10b838dade5f7bb2cc291b5e1984447a44431ff61"
  },
  "kernelspec": {
   "display_name": "Python 3.9.7 ('ml')",
   "language": "python",
   "name": "python3"
  },
  "language_info": {
   "codemirror_mode": {
    "name": "ipython",
    "version": 3
   },
   "file_extension": ".py",
   "mimetype": "text/x-python",
   "name": "python",
   "nbconvert_exporter": "python",
   "pygments_lexer": "ipython3",
   "version": "3.9.7"
  },
  "orig_nbformat": 4
 },
 "nbformat": 4,
 "nbformat_minor": 2
}
