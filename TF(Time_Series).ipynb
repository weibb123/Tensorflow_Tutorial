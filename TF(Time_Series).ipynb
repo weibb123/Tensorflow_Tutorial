{
 "cells": [
  {
   "cell_type": "markdown",
   "metadata": {},
   "source": [
    "## Time series forecasting in TensorFlow (BitPredict)\n",
    "We will predict the cost of Bitcoin tomorrow for practicing timeseries data\n",
    "\n",
    "Note: This is not financial advice! Time series forecasting for stock market price is actually terrible.\\"
   ]
  },
  {
   "cell_type": "markdown",
   "metadata": {},
   "source": [
    "## Types of Time series\n",
    "<b>Trend</b> -> time series has a clear long-term increase or decrease\\\n",
    "\n",
    "<b>Seasonal</b> -> time series affected by seasonal factors such as time of year\\\n",
    "\n",
    "<b>Cyclic</b> -> time series shows rises and falls over an unfixed period"
   ]
  },
  {
   "cell_type": "code",
   "execution_count": 1,
   "metadata": {},
   "outputs": [],
   "source": [
    "filepath = \"https://raw.githubusercontent.com/mrdbourke/tensorflow-deep-learning/main/extras/BTC_USD_2013-10-01_2021-05-18-CoinDesk.csv\""
   ]
  },
  {
   "cell_type": "markdown",
   "metadata": {},
   "source": [
    "## Import time series data with Pandas"
   ]
  },
  {
   "cell_type": "code",
   "execution_count": 2,
   "metadata": {},
   "outputs": [
    {
     "data": {
      "text/html": [
       "<div>\n",
       "<style scoped>\n",
       "    .dataframe tbody tr th:only-of-type {\n",
       "        vertical-align: middle;\n",
       "    }\n",
       "\n",
       "    .dataframe tbody tr th {\n",
       "        vertical-align: top;\n",
       "    }\n",
       "\n",
       "    .dataframe thead th {\n",
       "        text-align: right;\n",
       "    }\n",
       "</style>\n",
       "<table border=\"1\" class=\"dataframe\">\n",
       "  <thead>\n",
       "    <tr style=\"text-align: right;\">\n",
       "      <th></th>\n",
       "      <th>Currency</th>\n",
       "      <th>Closing Price (USD)</th>\n",
       "      <th>24h Open (USD)</th>\n",
       "      <th>24h High (USD)</th>\n",
       "      <th>24h Low (USD)</th>\n",
       "    </tr>\n",
       "    <tr>\n",
       "      <th>Date</th>\n",
       "      <th></th>\n",
       "      <th></th>\n",
       "      <th></th>\n",
       "      <th></th>\n",
       "      <th></th>\n",
       "    </tr>\n",
       "  </thead>\n",
       "  <tbody>\n",
       "    <tr>\n",
       "      <th>2013-10-01</th>\n",
       "      <td>BTC</td>\n",
       "      <td>123.65499</td>\n",
       "      <td>124.30466</td>\n",
       "      <td>124.75166</td>\n",
       "      <td>122.56349</td>\n",
       "    </tr>\n",
       "    <tr>\n",
       "      <th>2013-10-02</th>\n",
       "      <td>BTC</td>\n",
       "      <td>125.45500</td>\n",
       "      <td>123.65499</td>\n",
       "      <td>125.75850</td>\n",
       "      <td>123.63383</td>\n",
       "    </tr>\n",
       "    <tr>\n",
       "      <th>2013-10-03</th>\n",
       "      <td>BTC</td>\n",
       "      <td>108.58483</td>\n",
       "      <td>125.45500</td>\n",
       "      <td>125.66566</td>\n",
       "      <td>83.32833</td>\n",
       "    </tr>\n",
       "    <tr>\n",
       "      <th>2013-10-04</th>\n",
       "      <td>BTC</td>\n",
       "      <td>118.67466</td>\n",
       "      <td>108.58483</td>\n",
       "      <td>118.67500</td>\n",
       "      <td>107.05816</td>\n",
       "    </tr>\n",
       "    <tr>\n",
       "      <th>2013-10-05</th>\n",
       "      <td>BTC</td>\n",
       "      <td>121.33866</td>\n",
       "      <td>118.67466</td>\n",
       "      <td>121.93633</td>\n",
       "      <td>118.00566</td>\n",
       "    </tr>\n",
       "  </tbody>\n",
       "</table>\n",
       "</div>"
      ],
      "text/plain": [
       "           Currency  Closing Price (USD)  24h Open (USD)  24h High (USD)  \\\n",
       "Date                                                                       \n",
       "2013-10-01      BTC            123.65499       124.30466       124.75166   \n",
       "2013-10-02      BTC            125.45500       123.65499       125.75850   \n",
       "2013-10-03      BTC            108.58483       125.45500       125.66566   \n",
       "2013-10-04      BTC            118.67466       108.58483       118.67500   \n",
       "2013-10-05      BTC            121.33866       118.67466       121.93633   \n",
       "\n",
       "            24h Low (USD)  \n",
       "Date                       \n",
       "2013-10-01      122.56349  \n",
       "2013-10-02      123.63383  \n",
       "2013-10-03       83.32833  \n",
       "2013-10-04      107.05816  \n",
       "2013-10-05      118.00566  "
      ]
     },
     "execution_count": 2,
     "metadata": {},
     "output_type": "execute_result"
    }
   ],
   "source": [
    "# Import with pandas \n",
    "import pandas as pd\n",
    "# Parse dates and set date column to index\n",
    "df = pd.read_csv(filepath, \n",
    "                 parse_dates=[\"Date\"], \n",
    "                 index_col=[\"Date\"]) # parse the date column (tell pandas column 1 is a datetime)\n",
    "df.head()"
   ]
  },
  {
   "cell_type": "code",
   "execution_count": 3,
   "metadata": {},
   "outputs": [
    {
     "name": "stdout",
     "output_type": "stream",
     "text": [
      "<class 'pandas.core.frame.DataFrame'>\n",
      "DatetimeIndex: 2787 entries, 2013-10-01 to 2021-05-18\n",
      "Data columns (total 5 columns):\n",
      " #   Column               Non-Null Count  Dtype  \n",
      "---  ------               --------------  -----  \n",
      " 0   Currency             2787 non-null   object \n",
      " 1   Closing Price (USD)  2787 non-null   float64\n",
      " 2   24h Open (USD)       2787 non-null   float64\n",
      " 3   24h High (USD)       2787 non-null   float64\n",
      " 4   24h Low (USD)        2787 non-null   float64\n",
      "dtypes: float64(4), object(1)\n",
      "memory usage: 130.6+ KB\n"
     ]
    }
   ],
   "source": [
    "df.info()"
   ]
  },
  {
   "cell_type": "code",
   "execution_count": 4,
   "metadata": {},
   "outputs": [
    {
     "data": {
      "text/html": [
       "<div>\n",
       "<style scoped>\n",
       "    .dataframe tbody tr th:only-of-type {\n",
       "        vertical-align: middle;\n",
       "    }\n",
       "\n",
       "    .dataframe tbody tr th {\n",
       "        vertical-align: top;\n",
       "    }\n",
       "\n",
       "    .dataframe thead th {\n",
       "        text-align: right;\n",
       "    }\n",
       "</style>\n",
       "<table border=\"1\" class=\"dataframe\">\n",
       "  <thead>\n",
       "    <tr style=\"text-align: right;\">\n",
       "      <th></th>\n",
       "      <th>Price</th>\n",
       "    </tr>\n",
       "    <tr>\n",
       "      <th>Date</th>\n",
       "      <th></th>\n",
       "    </tr>\n",
       "  </thead>\n",
       "  <tbody>\n",
       "    <tr>\n",
       "      <th>2013-10-01</th>\n",
       "      <td>123.65499</td>\n",
       "    </tr>\n",
       "    <tr>\n",
       "      <th>2013-10-02</th>\n",
       "      <td>125.45500</td>\n",
       "    </tr>\n",
       "    <tr>\n",
       "      <th>2013-10-03</th>\n",
       "      <td>108.58483</td>\n",
       "    </tr>\n",
       "    <tr>\n",
       "      <th>2013-10-04</th>\n",
       "      <td>118.67466</td>\n",
       "    </tr>\n",
       "    <tr>\n",
       "      <th>2013-10-05</th>\n",
       "      <td>121.33866</td>\n",
       "    </tr>\n",
       "  </tbody>\n",
       "</table>\n",
       "</div>"
      ],
      "text/plain": [
       "                Price\n",
       "Date                 \n",
       "2013-10-01  123.65499\n",
       "2013-10-02  125.45500\n",
       "2013-10-03  108.58483\n",
       "2013-10-04  118.67466\n",
       "2013-10-05  121.33866"
      ]
     },
     "execution_count": 4,
     "metadata": {},
     "output_type": "execute_result"
    }
   ],
   "source": [
    "# We only want closing price for each day\n",
    "bitcoin_prices = pd.DataFrame(df[\"Closing Price (USD)\"]).rename(columns={'Closing Price (USD)': \"Price\"})\n",
    "bitcoin_prices.head()"
   ]
  },
  {
   "cell_type": "markdown",
   "metadata": {},
   "source": [
    "Let's plot everything of the closing day price of bitcoin!"
   ]
  },
  {
   "cell_type": "code",
   "execution_count": 5,
   "metadata": {},
   "outputs": [
    {
     "data": {
      "image/png": "[encoded data removed]",
      "text/plain": [
       "<Figure size 720x504 with 1 Axes>"
      ]
     },
     "metadata": {
      "needs_background": "light"
     },
     "output_type": "display_data"
    }
   ],
   "source": [
    "import matplotlib.pyplot as plt\n",
    "bitcoin_prices.plot(figsize=(10,7))\n",
    "plt.ylabel(\"BTC Price\")\n",
    "plt.title(\"Price of Bitcoin from 1 Oct 2013 to 18 May 2021\", fontsize=16)\n",
    "plt.legend(fontsize=14);"
   ]
  },
  {
   "cell_type": "markdown",
   "metadata": {},
   "source": [
    "Dang it, If I bought bitcoin at 2014, I will be rich :)"
   ]
  },
  {
   "cell_type": "markdown",
   "metadata": {},
   "source": [
    "## Train_test_split Time series data\n",
    "\n",
    "Before splitting, it is important to know what type of time-series data we have here?\\\n",
    "<b>Univariate</b> time series data deals with one variable. For ex, using price of bitcoin to predict bitcoin\\\n",
    "<b>Multivariate</b> time series data deals with more than one variable. For ex, predict energy demand using day of week, time of year and number of houses.\\\n",
    "\n",
    "How do we split?\\\n",
    "Unlike regular splitting, test data now is the data from future and train data is the data from the past. We will pick a point in time and separate sequence data into past and future."
   ]
  },
  {
   "cell_type": "code",
   "execution_count": 6,
   "metadata": {},
   "outputs": [
    {
     "data": {
      "text/plain": [
       "(2229, 558, 2229, 558)"
      ]
     },
     "execution_count": 6,
     "metadata": {},
     "output_type": "execute_result"
    }
   ],
   "source": [
    "# Get bitcoin date array\n",
    "prices = bitcoin_prices['Price'].to_numpy()\n",
    "timesteps = bitcoin_prices.index.to_numpy()\n",
    "\n",
    "# Create train and test splits the right way for time series data\n",
    "split_size = int(0.8 * len(prices)) # 80% train, 20% test\n",
    "\n",
    "# Create train data splits (everything before the split)\n",
    "X_train, y_train = timesteps[:split_size], prices[:split_size]\n",
    "\n",
    "# Create test data splits (everything after the split)\n",
    "X_test, y_test = timesteps[split_size:], prices[split_size:]\n",
    "\n",
    "len(X_train), len(X_test), len(y_train), len(y_test)\n"
   ]
  },
  {
   "cell_type": "code",
   "execution_count": 9,
   "metadata": {},
   "outputs": [
    {
     "data": {
      "image/png": "[encoded data removed]",
      "text/plain": [
       "<Figure size 720x504 with 1 Axes>"
      ]
     },
     "metadata": {
      "needs_background": "light"
     },
     "output_type": "display_data"
    }
   ],
   "source": [
    "# Create a plot function to plot time series data\n",
    "def plot_time_series(timesteps, values, format=\".\", start=0, end=None, label=None):\n",
    "    \"\"\"\n",
    "    timesteps: array of timesteps\n",
    "    values: array of values across time\n",
    "    format: style of plot, default\n",
    "    start: where to start the plot\n",
    "    end: where to end the plot\n",
    "    label: label to show on plot of values\"\"\"\n",
    "\n",
    "    # plot the series\n",
    "    plt.plot(timesteps[start:end], values[start:end], format, label=label)\n",
    "    plt.xlabel(\"Time\")\n",
    "    plt.ylabel(\"BTC Price\")\n",
    "    if label:\n",
    "        plt.legend(fontsize=14) # make label bigger\n",
    "    plt.grid(True)\n",
    "\n",
    "# Try out our plotting function\n",
    "plt.figure(figsize=(10,7))\n",
    "plot_time_series(timesteps=X_train, values=y_train, label=\"Train data\")\n",
    "plot_time_series(timesteps=X_test, values=y_test, label=\"Test data\")"
   ]
  },
  {
   "cell_type": "markdown",
   "metadata": {},
   "source": [
    "# Modelling experiments\n",
    "Before discuss what modelling experiments going to run, these are two terms we should know.\\\n",
    "<b>Horizon -> </b> number of timesteps to predict into future\\\n",
    "<b>Window -> </b> number of timesteps from past used to predict horizon\\\n",
    "1 day in future -> horizon = 1\\\n",
    "7 days in past -> window = 7"
   ]
  },
  {
   "cell_type": "markdown",
   "metadata": {},
   "source": [
    "Model 0: Naiive forecast (baseline)\n",
    "All naiive model is used the previous timestep value to predict the next timestep value\\\n",
    "\n",
    "Formula will be like\\\n",
    "$$\\hat{y_t} = y_{t-1}$$"
   ]
  },
  {
   "cell_type": "markdown",
   "metadata": {},
   "source": [
    "In an open system (like stock market or crypto market), you'll find beating the naiive forecast with any kind of model is quite hard.\\\n",
    "\n",
    "<b>Open system</b> is a system where inputs and outputs can freely flow, such as a market(stock or crypto). Time series forecasting in open systems in generally quite poor."
   ]
  },
  {
   "cell_type": "code",
   "execution_count": 10,
   "metadata": {},
   "outputs": [
    {
     "data": {
      "text/plain": [
       "(array([9226.48582088, 8794.35864452, 8798.04205463, 9081.18687849,\n",
       "        8711.53433917, 8760.89271814, 8749.52059102, 8656.97092235,\n",
       "        8500.64355816, 8469.2608989 ]),\n",
       " array([57107.12067189, 58788.20967893, 58102.19142623, 55715.54665129,\n",
       "        56573.5554719 , 52147.82118698, 49764.1320816 , 50032.69313676,\n",
       "        47885.62525472, 45604.61575361]))"
      ]
     },
     "execution_count": 10,
     "metadata": {},
     "output_type": "execute_result"
    }
   ],
   "source": [
    "# Create a naiive forecast\n",
    "naive_forecast = y_test[:-1] # naiive forecast equals every value excluding the last value\n",
    "naive_forecast[:10], naive_forecast[-10:] # view first 10 and last 10\n",
    "\n"
   ]
  },
  {
   "cell_type": "code",
   "execution_count": 11,
   "metadata": {},
   "outputs": [
    {
     "data": {
      "image/png": "[encoded data removed]",
      "text/plain": [
       "<Figure size 720x504 with 1 Axes>"
      ]
     },
     "metadata": {
      "needs_background": "light"
     },
     "output_type": "display_data"
    }
   ],
   "source": [
    "# Plot naiive forecast\n",
    "plt.figure(figsize=(10,7))\n",
    "plot_time_series(timesteps=X_train, values=y_train, label=\"Train data\")\n",
    "plot_time_series(timesteps=X_test, values=y_test, label=\"Test data\")\n",
    "plot_time_series(timesteps=X_test[1:], values=naive_forecast, format=\"-\", label=\"Naive forecast\")"
   ]
  },
  {
   "cell_type": "markdown",
   "metadata": {},
   "source": [
    "Let's zoom in to take a better look"
   ]
  },
  {
   "cell_type": "code",
   "execution_count": 12,
   "metadata": {},
   "outputs": [
    {
     "data": {
      "image/png": "[encoded data removed]",
      "text/plain": [
       "<Figure size 720x504 with 1 Axes>"
      ]
     },
     "metadata": {
      "needs_background": "light"
     },
     "output_type": "display_data"
    }
   ],
   "source": [
    "plt.figure(figsize=(10, 7))\n",
    "offset = 300 # offset the values by 300 timesteps\n",
    "plot_time_series(timesteps=X_test, values=y_test, start=offset, label=\"Test data\")\n",
    "plot_time_series(timesteps=X_test[1:], values=naive_forecast, format=\"-\", start=offset, label=\"Naiive forecast\")"
   ]
  },
  {
   "cell_type": "markdown",
   "metadata": {},
   "source": [
    "# Evaluate time series model\n",
    "There are many metrics.... We will use MAE as good place to start.\n"
   ]
  },
  {
   "cell_type": "code",
   "execution_count": 13,
   "metadata": {},
   "outputs": [],
   "source": [
    "import tensorflow as tf\n",
    "\n",
    "#Created our own Mean aboslute scaled error.\n",
    "def mean_absolute_scaled_error(y_true, y_pred):\n",
    "    \"\"\"MASE (assuming no seasonality of data).\n",
    "    \"\"\"\n",
    "    mae = tf.reduce_mean(tf.abs(y_true - y_pred))\n",
    "\n",
    "    # Find MAE of naive forecast (no seasonality)\n",
    "    mae_naive_no_season = tf.reduce_mean(tf.abs(y_true[1:] - y_true[:-1]))\n",
    "\n",
    "    return mae / mae_naive_no_season"
   ]
  },
  {
   "cell_type": "code",
   "execution_count": 14,
   "metadata": {},
   "outputs": [],
   "source": [
    "def evaluate_preds(y_true, y_pred):\n",
    "  # Make sure float32 (for metric calculations)\n",
    "  y_true = tf.cast(y_true, dtype=tf.float32)\n",
    "  y_pred = tf.cast(y_pred, dtype=tf.float32)\n",
    "\n",
    "  # Calculate various metrics\n",
    "  mae = tf.keras.metrics.mean_absolute_error(y_true, y_pred)\n",
    "  mse = tf.keras.metrics.mean_squared_error(y_true, y_pred) # puts and emphasis on outliers (all errors get squared)\n",
    "  rmse = tf.sqrt(mse)\n",
    "  mape = tf.keras.metrics.mean_absolute_percentage_error(y_true, y_pred)\n",
    "  mase = mean_absolute_scaled_error(y_true, y_pred)\n",
    "  \n",
    "  return {\"mae\": mae.numpy(),\n",
    "          \"mse\": mse.numpy(),\n",
    "          \"rmse\": rmse.numpy(),\n",
    "          \"mape\": mape.numpy(),\n",
    "          \"mase\": mase.numpy()}"
   ]
  },
  {
   "cell_type": "code",
   "execution_count": 15,
   "metadata": {},
   "outputs": [
    {
     "data": {
      "text/plain": [
       "{'mae': 567.9802,\n",
       " 'mse': 1147547.0,\n",
       " 'rmse': 1071.2362,\n",
       " 'mape': 2.516525,\n",
       " 'mase': 0.99957}"
      ]
     },
     "execution_count": 15,
     "metadata": {},
     "output_type": "execute_result"
    }
   ],
   "source": [
    "naive_results = evaluate_preds(y_true=y_test[1:],\n",
    "                               y_pred=naive_forecast)\n",
    "naive_results"
   ]
  },
  {
   "cell_type": "markdown",
   "metadata": {},
   "source": [
    "Each prediction in naive forecast is on average off by $567"
   ]
  },
  {
   "cell_type": "code",
   "execution_count": 16,
   "metadata": {},
   "outputs": [
    {
     "data": {
      "text/plain": [
       "20056.632963737222"
      ]
     },
     "execution_count": 16,
     "metadata": {},
     "output_type": "execute_result"
    }
   ],
   "source": [
    "# Find average price of Bitcoin in test dataset\n",
    "tf.reduce_mean(y_test).numpy()"
   ]
  },
  {
   "cell_type": "markdown",
   "metadata": {},
   "source": [
    "average price of Bitcoin in the test dataset is $20,056"
   ]
  },
  {
   "cell_type": "markdown",
   "metadata": {},
   "source": [
    "## Windowing dataset\n",
    "Before building models, we need to window our time series to make into supervised learning problem. Because our window = 7 and horizon = 1, an example will look like this.\\\n",
    "[0,1,2,3,4,5,6] -> [7]"
   ]
  },
  {
   "cell_type": "code",
   "execution_count": 18,
   "metadata": {},
   "outputs": [],
   "source": [
    "HORIZON = 1 # predict 1 step at a time\n",
    "WINDOW_SIZE = 7 # use a week worth of timesteps to predict the horizon"
   ]
  },
  {
   "cell_type": "code",
   "execution_count": 19,
   "metadata": {},
   "outputs": [],
   "source": [
    "# Create function to label windowed data\n",
    "def get_labelled_windows(x, horizon=1):\n",
    "    \"\"\"Create labels for windowed datasets.\"\"\"\n",
    "\n",
    "    return x[:, :-horizon], x[:, -horizon:]"
   ]
  },
  {
   "cell_type": "code",
   "execution_count": 20,
   "metadata": {},
   "outputs": [
    {
     "name": "stdout",
     "output_type": "stream",
     "text": [
      "Window: [1 2 3 4 5 6 7] -> Label: 8\n"
     ]
    }
   ],
   "source": [
    "# Test out the window labelling function\n",
    "test_window, test_label = get_labelled_windows(tf.expand_dims(tf.range(8)+1, axis=0), horizon=HORIZON)\n",
    "print(f\"Window: {tf.squeeze(test_window).numpy()} -> Label: {tf.squeeze(test_label).numpy()}\")"
   ]
  },
  {
   "cell_type": "code",
   "execution_count": 23,
   "metadata": {},
   "outputs": [],
   "source": [
    "import numpy as np\n",
    "# Create function to view NumPy arrays as windows\n",
    "def make_windows(x, window_size=7, horizon=1):\n",
    "  \"\"\"\n",
    "  Turns a 1D array into a 2D array of sequential windows of window_size.\n",
    "  \"\"\"\n",
    "  # 1. Create a window of specific window_size (add the horizon on the end for later labelling)\n",
    "  window_step = np.expand_dims(np.arange(window_size+horizon), axis=0)\n",
    "  # print(f\"Window step:\\n {window_step}\")\n",
    "\n",
    "  # 2. Create a 2D array of multiple window steps (minus 1 to account for 0 indexing)\n",
    "  window_indexes = window_step + np.expand_dims(np.arange(len(x)-(window_size+horizon-1)), axis=0).T # create 2D array of windows of size window_size\n",
    "  # print(f\"Window indexes:\\n {window_indexes[:3], window_indexes[-3:], window_indexes.shape}\")\n",
    "\n",
    "  # 3. Index on the target array (time series) with 2D array of multiple window steps\n",
    "  windowed_array = x[window_indexes]\n",
    "\n",
    "  # 4. Get the labelled windows\n",
    "  windows, labels = get_labelled_windows(windowed_array, horizon=horizon)\n",
    "\n",
    "  return windows, labels"
   ]
  },
  {
   "cell_type": "code",
   "execution_count": 24,
   "metadata": {},
   "outputs": [
    {
     "data": {
      "text/plain": [
       "(2780, 2780)"
      ]
     },
     "execution_count": 24,
     "metadata": {},
     "output_type": "execute_result"
    }
   ],
   "source": [
    "full_windows, full_labels = make_windows(prices, window_size=WINDOW_SIZE, horizon=HORIZON)\n",
    "len(full_windows), len(full_labels)"
   ]
  },
  {
   "cell_type": "markdown",
   "metadata": {},
   "source": [
    "## Turning windows into training and test sets\n"
   ]
  },
  {
   "cell_type": "code",
   "execution_count": 25,
   "metadata": {},
   "outputs": [],
   "source": [
    "# Make the train/test splits\n",
    "def make_train_test_splits(windows, labels, test_split=0.2):\n",
    "  \"\"\"\n",
    "  Splits matching pairs of windows and labels into train and test splits.\n",
    "  \"\"\"\n",
    "  split_size = int(len(windows) * (1-test_split)) # this will default to 80% train/20% test\n",
    "  train_windows = windows[:split_size]\n",
    "  train_labels = labels[:split_size]\n",
    "  test_windows = windows[split_size:]\n",
    "  test_labels = labels[split_size:]\n",
    "  return train_windows, test_windows, train_labels, test_labels"
   ]
  },
  {
   "cell_type": "code",
   "execution_count": 26,
   "metadata": {},
   "outputs": [
    {
     "data": {
      "text/plain": [
       "(2224, 556, 2224, 556)"
      ]
     },
     "execution_count": 26,
     "metadata": {},
     "output_type": "execute_result"
    }
   ],
   "source": [
    "train_windows, test_windows, train_labels, test_labels = make_train_test_splits(full_windows, full_labels)\n",
    "len(train_windows), len(test_windows), len(train_labels), len(test_labels)"
   ]
  },
  {
   "cell_type": "code",
   "execution_count": 27,
   "metadata": {},
   "outputs": [
    {
     "data": {
      "text/plain": [
       "(array([[123.65499, 125.455  , 108.58483, 118.67466, 121.33866, 120.65533,\n",
       "         121.795  ],\n",
       "        [125.455  , 108.58483, 118.67466, 121.33866, 120.65533, 121.795  ,\n",
       "         123.033  ],\n",
       "        [108.58483, 118.67466, 121.33866, 120.65533, 121.795  , 123.033  ,\n",
       "         124.049  ],\n",
       "        [118.67466, 121.33866, 120.65533, 121.795  , 123.033  , 124.049  ,\n",
       "         125.96116],\n",
       "        [121.33866, 120.65533, 121.795  , 123.033  , 124.049  , 125.96116,\n",
       "         125.27966]]),\n",
       " array([[123.033  ],\n",
       "        [124.049  ],\n",
       "        [125.96116],\n",
       "        [125.27966],\n",
       "        [125.9275 ]]))"
      ]
     },
     "execution_count": 27,
     "metadata": {},
     "output_type": "execute_result"
    }
   ],
   "source": [
    "train_windows[:5], train_labels[:5]"
   ]
  },
  {
   "cell_type": "markdown",
   "metadata": {},
   "source": [
    "## Model 1: Simple Dense Model (window = 7, horizon = 1)"
   ]
  },
  {
   "cell_type": "code",
   "execution_count": 29,
   "metadata": {},
   "outputs": [
    {
     "name": "stdout",
     "output_type": "stream",
     "text": [
      "Epoch 1/100\n",
      "18/18 [==============================] - 2s 10ms/step - loss: 780.3595 - mae: 780.3595 - val_loss: 2278.5544 - val_mae: 2278.5544\n",
      "Epoch 2/100\n",
      "18/18 [==============================] - 0s 2ms/step - loss: 247.8195 - mae: 247.8195 - val_loss: 1008.0859 - val_mae: 1008.0859\n",
      "Epoch 3/100\n",
      "18/18 [==============================] - 0s 3ms/step - loss: 190.4361 - mae: 190.4361 - val_loss: 958.1794 - val_mae: 958.1794\n",
      "Epoch 4/100\n",
      "18/18 [==============================] - 0s 3ms/step - loss: 172.5639 - mae: 172.5639 - val_loss: 901.7570 - val_mae: 901.7570\n",
      "Epoch 5/100\n",
      "18/18 [==============================] - 0s 4ms/step - loss: 163.4465 - mae: 163.4465 - val_loss: 874.2380 - val_mae: 874.2380\n",
      "Epoch 6/100\n",
      "18/18 [==============================] - 0s 3ms/step - loss: 159.9092 - mae: 159.9092 - val_loss: 848.6147 - val_mae: 848.6147\n",
      "Epoch 7/100\n",
      "18/18 [==============================] - 0s 2ms/step - loss: 151.7330 - mae: 151.7330 - val_loss: 832.2957 - val_mae: 832.2957\n",
      "Epoch 8/100\n",
      "18/18 [==============================] - 0s 3ms/step - loss: 145.5310 - mae: 145.5310 - val_loss: 807.6315 - val_mae: 807.6315\n",
      "Epoch 9/100\n",
      "18/18 [==============================] - 0s 2ms/step - loss: 144.6675 - mae: 144.6675 - val_loss: 802.9158 - val_mae: 802.9158\n",
      "Epoch 10/100\n",
      "18/18 [==============================] - 0s 3ms/step - loss: 141.9194 - mae: 141.9194 - val_loss: 765.7702 - val_mae: 765.7702\n",
      "Epoch 11/100\n",
      "18/18 [==============================] - 0s 2ms/step - loss: 136.2073 - mae: 136.2073 - val_loss: 772.2805 - val_mae: 772.2805\n",
      "Epoch 12/100\n",
      "18/18 [==============================] - 0s 2ms/step - loss: 134.2486 - mae: 134.2486 - val_loss: 785.7982 - val_mae: 785.7982\n",
      "Epoch 13/100\n",
      "18/18 [==============================] - 0s 3ms/step - loss: 134.4353 - mae: 134.4353 - val_loss: 756.2645 - val_mae: 756.2645\n",
      "Epoch 14/100\n",
      "18/18 [==============================] - 0s 3ms/step - loss: 129.4925 - mae: 129.4925 - val_loss: 761.9944 - val_mae: 761.9944\n",
      "Epoch 15/100\n",
      "18/18 [==============================] - 0s 2ms/step - loss: 130.3773 - mae: 130.3773 - val_loss: 711.1071 - val_mae: 711.1071\n",
      "Epoch 16/100\n",
      "18/18 [==============================] - 0s 3ms/step - loss: 124.8072 - mae: 124.8072 - val_loss: 700.5588 - val_mae: 700.5588\n",
      "Epoch 17/100\n",
      "18/18 [==============================] - 0s 2ms/step - loss: 123.4326 - mae: 123.4326 - val_loss: 716.8412 - val_mae: 716.8412\n",
      "Epoch 18/100\n",
      "18/18 [==============================] - 0s 2ms/step - loss: 122.0103 - mae: 122.0103 - val_loss: 659.4194 - val_mae: 659.4194\n",
      "Epoch 19/100\n",
      "18/18 [==============================] - 0s 3ms/step - loss: 121.1957 - mae: 121.1957 - val_loss: 731.6072 - val_mae: 731.6072\n",
      "Epoch 20/100\n",
      "18/18 [==============================] - 0s 2ms/step - loss: 118.9543 - mae: 118.9543 - val_loss: 644.1186 - val_mae: 644.1186\n",
      "Epoch 21/100\n",
      "18/18 [==============================] - 0s 3ms/step - loss: 122.1007 - mae: 122.1007 - val_loss: 644.7807 - val_mae: 644.7807\n",
      "Epoch 22/100\n",
      "18/18 [==============================] - 0s 2ms/step - loss: 118.3604 - mae: 118.3604 - val_loss: 679.4204 - val_mae: 679.4204\n",
      "Epoch 23/100\n",
      "18/18 [==============================] - 0s 2ms/step - loss: 121.3571 - mae: 121.3571 - val_loss: 637.7567 - val_mae: 637.7567\n",
      "Epoch 24/100\n",
      "18/18 [==============================] - 0s 3ms/step - loss: 116.3611 - mae: 116.3611 - val_loss: 623.6639 - val_mae: 623.6639\n",
      "Epoch 25/100\n",
      "18/18 [==============================] - 0s 3ms/step - loss: 115.0531 - mae: 115.0531 - val_loss: 619.1799 - val_mae: 619.1799\n",
      "Epoch 26/100\n",
      "18/18 [==============================] - 0s 3ms/step - loss: 115.6687 - mae: 115.6687 - val_loss: 619.6748 - val_mae: 619.6748\n",
      "Epoch 27/100\n",
      "18/18 [==============================] - 0s 3ms/step - loss: 116.3241 - mae: 116.3241 - val_loss: 613.2925 - val_mae: 613.2925\n",
      "Epoch 28/100\n",
      "18/18 [==============================] - 0s 3ms/step - loss: 113.3932 - mae: 113.3932 - val_loss: 608.5276 - val_mae: 608.5276\n",
      "Epoch 29/100\n",
      "18/18 [==============================] - 0s 3ms/step - loss: 112.9776 - mae: 112.9776 - val_loss: 618.0470 - val_mae: 618.0470\n",
      "Epoch 30/100\n",
      "18/18 [==============================] - 0s 3ms/step - loss: 115.8865 - mae: 115.8865 - val_loss: 602.7725 - val_mae: 602.7725\n",
      "Epoch 31/100\n",
      "18/18 [==============================] - 0s 3ms/step - loss: 111.7775 - mae: 111.7775 - val_loss: 611.2066 - val_mae: 611.2066\n",
      "Epoch 32/100\n",
      "18/18 [==============================] - 0s 2ms/step - loss: 112.1063 - mae: 112.1063 - val_loss: 614.8229 - val_mae: 614.8229\n",
      "Epoch 33/100\n",
      "18/18 [==============================] - 0s 3ms/step - loss: 112.1289 - mae: 112.1289 - val_loss: 617.4466 - val_mae: 617.4466\n",
      "Epoch 34/100\n",
      "18/18 [==============================] - 0s 2ms/step - loss: 111.8326 - mae: 111.8326 - val_loss: 597.1751 - val_mae: 597.1751\n",
      "Epoch 35/100\n",
      "18/18 [==============================] - 0s 3ms/step - loss: 111.0891 - mae: 111.0891 - val_loss: 599.5433 - val_mae: 599.5433\n",
      "Epoch 36/100\n",
      "18/18 [==============================] - 0s 2ms/step - loss: 113.4481 - mae: 113.4481 - val_loss: 598.2381 - val_mae: 598.2381\n",
      "Epoch 37/100\n",
      "18/18 [==============================] - 0s 2ms/step - loss: 109.9993 - mae: 109.9993 - val_loss: 599.7628 - val_mae: 599.7628\n",
      "Epoch 38/100\n",
      "18/18 [==============================] - 0s 3ms/step - loss: 112.2740 - mae: 112.2740 - val_loss: 624.1345 - val_mae: 624.1345\n",
      "Epoch 39/100\n",
      "18/18 [==============================] - 0s 2ms/step - loss: 114.2304 - mae: 114.2304 - val_loss: 588.1047 - val_mae: 588.1047\n",
      "Epoch 40/100\n",
      "18/18 [==============================] - 0s 3ms/step - loss: 109.7944 - mae: 109.7944 - val_loss: 593.4128 - val_mae: 593.4128\n",
      "Epoch 41/100\n",
      "18/18 [==============================] - 0s 2ms/step - loss: 110.0583 - mae: 110.0583 - val_loss: 585.5574 - val_mae: 585.5574\n",
      "Epoch 42/100\n",
      "18/18 [==============================] - 0s 3ms/step - loss: 113.3235 - mae: 113.3235 - val_loss: 633.9921 - val_mae: 633.9921\n",
      "Epoch 43/100\n",
      "18/18 [==============================] - 0s 2ms/step - loss: 116.1464 - mae: 116.1464 - val_loss: 682.3013 - val_mae: 682.3013\n",
      "Epoch 44/100\n",
      "18/18 [==============================] - 0s 2ms/step - loss: 122.9969 - mae: 122.9969 - val_loss: 651.9936 - val_mae: 651.9936\n",
      "Epoch 45/100\n",
      "18/18 [==============================] - 0s 2ms/step - loss: 113.3694 - mae: 113.3694 - val_loss: 622.3033 - val_mae: 622.3033\n",
      "Epoch 46/100\n",
      "18/18 [==============================] - 0s 3ms/step - loss: 113.8532 - mae: 113.8532 - val_loss: 584.3947 - val_mae: 584.3947\n",
      "Epoch 47/100\n",
      "18/18 [==============================] - 0s 2ms/step - loss: 108.6527 - mae: 108.6527 - val_loss: 631.4006 - val_mae: 631.4006\n",
      "Epoch 48/100\n",
      "18/18 [==============================] - 0s 2ms/step - loss: 109.3635 - mae: 109.3635 - val_loss: 619.2126 - val_mae: 619.2126\n",
      "Epoch 49/100\n",
      "18/18 [==============================] - 0s 2ms/step - loss: 113.5704 - mae: 113.5704 - val_loss: 581.2174 - val_mae: 581.2174\n",
      "Epoch 50/100\n",
      "18/18 [==============================] - 0s 3ms/step - loss: 110.1459 - mae: 110.1459 - val_loss: 640.6371 - val_mae: 640.6371\n",
      "Epoch 51/100\n",
      "18/18 [==============================] - 0s 2ms/step - loss: 111.1285 - mae: 111.1285 - val_loss: 606.0112 - val_mae: 606.0112\n",
      "Epoch 52/100\n",
      "18/18 [==============================] - 0s 3ms/step - loss: 111.6749 - mae: 111.6749 - val_loss: 599.9965 - val_mae: 599.9965\n",
      "Epoch 53/100\n",
      "18/18 [==============================] - 0s 2ms/step - loss: 110.9051 - mae: 110.9051 - val_loss: 626.4059 - val_mae: 626.4059\n",
      "Epoch 54/100\n",
      "18/18 [==============================] - 0s 2ms/step - loss: 112.5559 - mae: 112.5559 - val_loss: 595.3063 - val_mae: 595.3063\n",
      "Epoch 55/100\n",
      "18/18 [==============================] - 0s 2ms/step - loss: 109.1238 - mae: 109.1238 - val_loss: 585.5677 - val_mae: 585.5677\n",
      "Epoch 56/100\n",
      "18/18 [==============================] - 0s 2ms/step - loss: 109.9697 - mae: 109.9697 - val_loss: 735.8316 - val_mae: 735.8316\n",
      "Epoch 57/100\n",
      "18/18 [==============================] - 0s 3ms/step - loss: 120.7844 - mae: 120.7844 - val_loss: 653.9913 - val_mae: 653.9913\n",
      "Epoch 58/100\n",
      "18/18 [==============================] - 0s 2ms/step - loss: 118.1726 - mae: 118.1726 - val_loss: 579.3918 - val_mae: 579.3918\n",
      "Epoch 59/100\n",
      "18/18 [==============================] - 0s 2ms/step - loss: 107.2888 - mae: 107.2888 - val_loss: 582.8076 - val_mae: 582.8076\n",
      "Epoch 60/100\n",
      "18/18 [==============================] - 0s 2ms/step - loss: 107.6437 - mae: 107.6437 - val_loss: 592.9214 - val_mae: 592.9214\n",
      "Epoch 61/100\n",
      "18/18 [==============================] - 0s 3ms/step - loss: 108.0207 - mae: 108.0207 - val_loss: 575.1074 - val_mae: 575.1074\n",
      "Epoch 62/100\n",
      "18/18 [==============================] - 0s 2ms/step - loss: 107.4888 - mae: 107.4888 - val_loss: 585.8976 - val_mae: 585.8976\n",
      "Epoch 63/100\n",
      "18/18 [==============================] - 0s 3ms/step - loss: 111.0348 - mae: 111.0348 - val_loss: 646.3619 - val_mae: 646.3619\n",
      "Epoch 64/100\n",
      "18/18 [==============================] - 0s 2ms/step - loss: 110.4717 - mae: 110.4717 - val_loss: 586.5243 - val_mae: 586.5243\n",
      "Epoch 65/100\n",
      "18/18 [==============================] - 0s 3ms/step - loss: 107.4147 - mae: 107.4147 - val_loss: 576.9447 - val_mae: 576.9447\n",
      "Epoch 66/100\n",
      "18/18 [==============================] - 0s 2ms/step - loss: 106.8632 - mae: 106.8632 - val_loss: 572.2061 - val_mae: 572.2061\n",
      "Epoch 67/100\n",
      "18/18 [==============================] - 0s 2ms/step - loss: 106.2412 - mae: 106.2412 - val_loss: 613.5300 - val_mae: 613.5300\n",
      "Epoch 68/100\n",
      "18/18 [==============================] - 0s 3ms/step - loss: 111.5564 - mae: 111.5564 - val_loss: 665.8969 - val_mae: 665.8969\n",
      "Epoch 69/100\n",
      "18/18 [==============================] - 0s 2ms/step - loss: 124.4754 - mae: 124.4754 - val_loss: 660.8396 - val_mae: 660.8396\n",
      "Epoch 70/100\n",
      "18/18 [==============================] - 0s 2ms/step - loss: 126.3152 - mae: 126.3152 - val_loss: 607.1339 - val_mae: 607.1339\n",
      "Epoch 71/100\n",
      "18/18 [==============================] - 0s 2ms/step - loss: 110.5848 - mae: 110.5848 - val_loss: 602.3574 - val_mae: 602.3574\n",
      "Epoch 72/100\n",
      "18/18 [==============================] - 0s 2ms/step - loss: 108.1258 - mae: 108.1258 - val_loss: 572.9122 - val_mae: 572.9122\n",
      "Epoch 73/100\n",
      "18/18 [==============================] - 0s 2ms/step - loss: 112.4145 - mae: 112.4145 - val_loss: 611.2636 - val_mae: 611.2636\n",
      "Epoch 74/100\n",
      "18/18 [==============================] - 0s 3ms/step - loss: 107.0204 - mae: 107.0204 - val_loss: 575.8030 - val_mae: 575.8030\n",
      "Epoch 75/100\n",
      "18/18 [==============================] - 0s 2ms/step - loss: 107.4539 - mae: 107.4539 - val_loss: 591.7034 - val_mae: 591.7034\n",
      "Epoch 76/100\n",
      "18/18 [==============================] - 0s 3ms/step - loss: 108.7652 - mae: 108.7652 - val_loss: 585.1549 - val_mae: 585.1549\n",
      "Epoch 77/100\n",
      "18/18 [==============================] - 0s 2ms/step - loss: 107.8272 - mae: 107.8272 - val_loss: 576.4132 - val_mae: 576.4132\n",
      "Epoch 78/100\n",
      "18/18 [==============================] - 0s 2ms/step - loss: 108.3280 - mae: 108.3280 - val_loss: 584.2866 - val_mae: 584.2866\n",
      "Epoch 79/100\n",
      "18/18 [==============================] - 0s 2ms/step - loss: 108.4009 - mae: 108.4009 - val_loss: 610.0202 - val_mae: 610.0202\n",
      "Epoch 80/100\n",
      "18/18 [==============================] - 0s 2ms/step - loss: 108.6780 - mae: 108.6780 - val_loss: 585.2465 - val_mae: 585.2465\n",
      "Epoch 81/100\n",
      "18/18 [==============================] - 0s 3ms/step - loss: 106.1670 - mae: 106.1670 - val_loss: 571.8150 - val_mae: 571.8150\n",
      "Epoch 82/100\n",
      "18/18 [==============================] - 0s 2ms/step - loss: 114.0973 - mae: 114.0973 - val_loss: 574.8497 - val_mae: 574.8497\n",
      "Epoch 83/100\n",
      "18/18 [==============================] - 0s 2ms/step - loss: 112.0763 - mae: 112.0763 - val_loss: 655.7375 - val_mae: 655.7375\n",
      "Epoch 84/100\n",
      "18/18 [==============================] - 0s 2ms/step - loss: 111.3540 - mae: 111.3540 - val_loss: 573.5798 - val_mae: 573.5798\n",
      "Epoch 85/100\n",
      "18/18 [==============================] - 0s 2ms/step - loss: 107.0769 - mae: 107.0769 - val_loss: 574.7217 - val_mae: 574.7217\n",
      "Epoch 86/100\n",
      "18/18 [==============================] - 0s 2ms/step - loss: 106.3143 - mae: 106.3143 - val_loss: 570.0840 - val_mae: 570.0840\n",
      "Epoch 87/100\n",
      "18/18 [==============================] - 0s 2ms/step - loss: 106.6310 - mae: 106.6310 - val_loss: 572.4273 - val_mae: 572.4273\n",
      "Epoch 88/100\n",
      "18/18 [==============================] - 0s 2ms/step - loss: 106.5560 - mae: 106.5560 - val_loss: 571.5914 - val_mae: 571.5914\n",
      "Epoch 89/100\n",
      "18/18 [==============================] - 0s 2ms/step - loss: 106.9896 - mae: 106.9896 - val_loss: 573.5573 - val_mae: 573.5573\n",
      "Epoch 90/100\n",
      "18/18 [==============================] - 0s 2ms/step - loss: 105.4440 - mae: 105.4440 - val_loss: 589.8192 - val_mae: 589.8192\n",
      "Epoch 91/100\n",
      "18/18 [==============================] - 0s 2ms/step - loss: 108.7169 - mae: 108.7169 - val_loss: 569.5580 - val_mae: 569.5580\n",
      "Epoch 92/100\n",
      "18/18 [==============================] - 0s 3ms/step - loss: 110.7431 - mae: 110.7431 - val_loss: 570.2764 - val_mae: 570.2764\n",
      "Epoch 93/100\n",
      "18/18 [==============================] - 0s 3ms/step - loss: 114.8783 - mae: 114.8783 - val_loss: 620.2442 - val_mae: 620.2442\n",
      "Epoch 94/100\n",
      "18/18 [==============================] - 0s 3ms/step - loss: 110.4071 - mae: 110.4071 - val_loss: 597.1275 - val_mae: 597.1275\n",
      "Epoch 95/100\n",
      "18/18 [==============================] - 0s 3ms/step - loss: 105.7038 - mae: 105.7038 - val_loss: 570.8546 - val_mae: 570.8546\n",
      "Epoch 96/100\n",
      "18/18 [==============================] - 0s 3ms/step - loss: 107.8113 - mae: 107.8113 - val_loss: 659.9583 - val_mae: 659.9583\n",
      "Epoch 97/100\n",
      "18/18 [==============================] - 0s 3ms/step - loss: 110.1523 - mae: 110.1523 - val_loss: 571.5419 - val_mae: 571.5419\n",
      "Epoch 98/100\n",
      "18/18 [==============================] - 0s 3ms/step - loss: 106.9247 - mae: 106.9247 - val_loss: 574.6091 - val_mae: 574.6091\n",
      "Epoch 99/100\n",
      "18/18 [==============================] - 0s 3ms/step - loss: 106.5226 - mae: 106.5226 - val_loss: 567.4189 - val_mae: 567.4189\n",
      "Epoch 100/100\n",
      "18/18 [==============================] - 0s 2ms/step - loss: 112.9983 - mae: 112.9983 - val_loss: 680.8662 - val_mae: 680.8662\n"
     ]
    },
    {
     "data": {
      "text/plain": [
       "<keras.callbacks.History at 0x273261572b0>"
      ]
     },
     "execution_count": 29,
     "metadata": {},
     "output_type": "execute_result"
    }
   ],
   "source": [
    "import tensorflow as tf\n",
    "from tensorflow.keras import layers\n",
    "\n",
    "# Set random seed for as reproducible results as possible\n",
    "tf.random.set_seed(42)\n",
    "\n",
    "# Construct model\n",
    "model_1 = tf.keras.Sequential([\n",
    "    layers.Dense(128, activation=\"relu\"),\n",
    "    layers.Dense(HORIZON, activation=\"linear\") # linear activation same as no activation\n",
    "], name=\"model_1_dense\")\n",
    "\n",
    "# Compile model\n",
    "model_1.compile(loss=\"mae\",\n",
    "optimizer=tf.keras.optimizers.Adam(),\n",
    "metrics=[\"mae\"])\n",
    "\n",
    "# Fit model\n",
    "model_1.fit(x=train_windows,\n",
    "y=train_labels,\n",
    "epochs=100,\n",
    "verbose=1,\n",
    "batch_size=128,\n",
    "validation_data=(test_windows, test_labels))"
   ]
  },
  {
   "cell_type": "code",
   "execution_count": 30,
   "metadata": {},
   "outputs": [
    {
     "name": "stdout",
     "output_type": "stream",
     "text": [
      "18/18 [==============================] - 0s 1ms/step - loss: 680.8662 - mae: 680.8662\n"
     ]
    },
    {
     "data": {
      "text/plain": [
       "[680.8662109375, 680.8662109375]"
      ]
     },
     "execution_count": 30,
     "metadata": {},
     "output_type": "execute_result"
    }
   ],
   "source": [
    "# Evaluate model on test data\n",
    "model_1.evaluate(test_windows, test_labels)"
   ]
  },
  {
   "cell_type": "markdown",
   "metadata": {},
   "source": [
    "# Make forecasts with a model (on the test dataset)\n"
   ]
  },
  {
   "cell_type": "code",
   "execution_count": 32,
   "metadata": {},
   "outputs": [],
   "source": [
    "def make_preds(model, input_data):\n",
    "    forecast = model.predict(input_data)\n",
    "    return tf.squeeze(forecast)"
   ]
  },
  {
   "cell_type": "code",
   "execution_count": 33,
   "metadata": {},
   "outputs": [
    {
     "data": {
      "text/plain": [
       "(556,\n",
       " <tf.Tensor: shape=(10,), dtype=float32, numpy=\n",
       " array([8684.65 , 8601.365, 8862.704, 8638.989, 8566.2  , 8578.227,\n",
       "        8530.663, 8339.662, 8313.019, 8363.438], dtype=float32)>)"
      ]
     },
     "execution_count": 33,
     "metadata": {},
     "output_type": "execute_result"
    }
   ],
   "source": [
    "# Make predictions using model_1 on the test dataset and view the results\n",
    "model_1_preds = make_preds(model_1, test_windows)\n",
    "len(model_1_preds), model_1_preds[:10]"
   ]
  },
  {
   "cell_type": "code",
   "execution_count": 34,
   "metadata": {},
   "outputs": [
    {
     "data": {
      "text/plain": [
       "{'mae': 680.8662,\n",
       " 'mse': 1408195.2,\n",
       " 'rmse': 1186.6741,\n",
       " 'mape': 3.1296875,\n",
       " 'mase': 1.1960933}"
      ]
     },
     "execution_count": 34,
     "metadata": {},
     "output_type": "execute_result"
    }
   ],
   "source": [
    "# Evaluate preds\n",
    "model_1_results = evaluate_preds(y_true=tf.squeeze(test_labels), # reduce to right shape\n",
    "                                 y_pred=model_1_preds)\n",
    "model_1_results"
   ]
  },
  {
   "cell_type": "code",
   "execution_count": 36,
   "metadata": {},
   "outputs": [
    {
     "data": {
      "image/png": "[encoded data removed]",
      "text/plain": [
       "<Figure size 720x504 with 1 Axes>"
      ]
     },
     "metadata": {
      "needs_background": "light"
     },
     "output_type": "display_data"
    }
   ],
   "source": [
    "offset = 300\n",
    "plt.figure(figsize=(10, 7))\n",
    "# Account for the test_window offset\n",
    "plot_time_series(timesteps=X_test[-len(test_windows):], values=test_labels[:, 0], start=offset, label=\"test_data\")\n",
    "plot_time_series(timesteps=X_test[-len(test_windows):], values=model_1_preds, start=offset, format=\"-\", label=\"model_2_preds\")"
   ]
  },
  {
   "cell_type": "markdown",
   "metadata": {},
   "source": [
    "## Model 2: Train a model on the full historical data to make predictions into future\n",
    "\n",
    "It's time we created a model which able to make future predictions on the price of Bitcoin (actual future)"
   ]
  },
  {
   "cell_type": "markdown",
   "metadata": {},
   "source": [
    "Forecasting models need to be retrained every time a forecast is made. Why? Because if Bitcoin prices are updated daily and you predict the price for tomorrow. Your model is only really valid for one day. When a new price comes out (e.g. the next day), you'll have to retrain your model to incorporate that new price to predict the next forecast."
   ]
  },
  {
   "cell_type": "code",
   "execution_count": 52,
   "metadata": {},
   "outputs": [],
   "source": [
    "# Block reward values\n",
    "block_reward_1 = 50 # 3 January 2009 (2009-01-03) - this block reward isn't in our dataset (it starts from 01 October 2013)\n",
    "block_reward_2 = 25 # 28 November 2012 \n",
    "block_reward_3 = 12.5 # 9 July 2016\n",
    "block_reward_4 = 6.25 # 11 May 2020\n",
    "\n",
    "# Block reward dates (datetime form of the above date stamps)\n",
    "block_reward_2_datetime = np.datetime64(\"2012-11-28\")\n",
    "block_reward_3_datetime = np.datetime64(\"2016-07-09\")\n",
    "block_reward_4_datetime = np.datetime64(\"2020-05-11\")"
   ]
  },
  {
   "cell_type": "code",
   "execution_count": 53,
   "metadata": {},
   "outputs": [
    {
     "data": {
      "text/plain": [
       "(1012, 2414)"
      ]
     },
     "execution_count": 53,
     "metadata": {},
     "output_type": "execute_result"
    }
   ],
   "source": [
    "# Get date indexes for when to add in different block dates\n",
    "block_reward_2_days = (block_reward_3_datetime - bitcoin_prices.index[0]).days\n",
    "block_reward_3_days = (block_reward_4_datetime - bitcoin_prices.index[0]).days\n",
    "block_reward_2_days, block_reward_3_days"
   ]
  },
  {
   "cell_type": "code",
   "execution_count": 54,
   "metadata": {},
   "outputs": [
    {
     "data": {
      "text/html": [
       "<div>\n",
       "<style scoped>\n",
       "    .dataframe tbody tr th:only-of-type {\n",
       "        vertical-align: middle;\n",
       "    }\n",
       "\n",
       "    .dataframe tbody tr th {\n",
       "        vertical-align: top;\n",
       "    }\n",
       "\n",
       "    .dataframe thead th {\n",
       "        text-align: right;\n",
       "    }\n",
       "</style>\n",
       "<table border=\"1\" class=\"dataframe\">\n",
       "  <thead>\n",
       "    <tr style=\"text-align: right;\">\n",
       "      <th></th>\n",
       "      <th>Price</th>\n",
       "      <th>block_reward</th>\n",
       "    </tr>\n",
       "    <tr>\n",
       "      <th>Date</th>\n",
       "      <th></th>\n",
       "      <th></th>\n",
       "    </tr>\n",
       "  </thead>\n",
       "  <tbody>\n",
       "    <tr>\n",
       "      <th>2013-10-01</th>\n",
       "      <td>123.65499</td>\n",
       "      <td>25</td>\n",
       "    </tr>\n",
       "    <tr>\n",
       "      <th>2013-10-02</th>\n",
       "      <td>125.45500</td>\n",
       "      <td>25</td>\n",
       "    </tr>\n",
       "    <tr>\n",
       "      <th>2013-10-03</th>\n",
       "      <td>108.58483</td>\n",
       "      <td>25</td>\n",
       "    </tr>\n",
       "    <tr>\n",
       "      <th>2013-10-04</th>\n",
       "      <td>118.67466</td>\n",
       "      <td>25</td>\n",
       "    </tr>\n",
       "    <tr>\n",
       "      <th>2013-10-05</th>\n",
       "      <td>121.33866</td>\n",
       "      <td>25</td>\n",
       "    </tr>\n",
       "  </tbody>\n",
       "</table>\n",
       "</div>"
      ],
      "text/plain": [
       "                Price block_reward\n",
       "Date                              \n",
       "2013-10-01  123.65499           25\n",
       "2013-10-02  125.45500           25\n",
       "2013-10-03  108.58483           25\n",
       "2013-10-04  118.67466           25\n",
       "2013-10-05  121.33866           25"
      ]
     },
     "execution_count": 54,
     "metadata": {},
     "output_type": "execute_result"
    }
   ],
   "source": [
    "# Make a copy of the Bitcoin historical data with block reward feature\n",
    "bitcoin_prices_block = bitcoin_prices.copy()\n",
    "bitcoin_prices_block[\"block_reward\"] = None\n",
    "# Set values of block_reward column (it's the last column hence -1 indexing on iloc)\n",
    "bitcoin_prices_block.iloc[:block_reward_2_days, -1] = block_reward_2\n",
    "bitcoin_prices_block.iloc[block_reward_2_days:block_reward_3_days, -1] = block_reward_3\n",
    "bitcoin_prices_block.iloc[block_reward_3_days:, -1] = block_reward_4\n",
    "bitcoin_prices_block.head()\n"
   ]
  },
  {
   "cell_type": "code",
   "execution_count": 56,
   "metadata": {},
   "outputs": [
    {
     "data": {
      "text/html": [
       "<div>\n",
       "<style scoped>\n",
       "    .dataframe tbody tr th:only-of-type {\n",
       "        vertical-align: middle;\n",
       "    }\n",
       "\n",
       "    .dataframe tbody tr th {\n",
       "        vertical-align: top;\n",
       "    }\n",
       "\n",
       "    .dataframe thead th {\n",
       "        text-align: right;\n",
       "    }\n",
       "</style>\n",
       "<table border=\"1\" class=\"dataframe\">\n",
       "  <thead>\n",
       "    <tr style=\"text-align: right;\">\n",
       "      <th></th>\n",
       "      <th>Price</th>\n",
       "      <th>block_reward</th>\n",
       "      <th>Price+1</th>\n",
       "      <th>Price+2</th>\n",
       "      <th>Price+3</th>\n",
       "      <th>Price+4</th>\n",
       "      <th>Price+5</th>\n",
       "      <th>Price+6</th>\n",
       "      <th>Price+7</th>\n",
       "    </tr>\n",
       "    <tr>\n",
       "      <th>Date</th>\n",
       "      <th></th>\n",
       "      <th></th>\n",
       "      <th></th>\n",
       "      <th></th>\n",
       "      <th></th>\n",
       "      <th></th>\n",
       "      <th></th>\n",
       "      <th></th>\n",
       "      <th></th>\n",
       "    </tr>\n",
       "  </thead>\n",
       "  <tbody>\n",
       "    <tr>\n",
       "      <th>2013-10-01</th>\n",
       "      <td>123.65499</td>\n",
       "      <td>25</td>\n",
       "      <td>NaN</td>\n",
       "      <td>NaN</td>\n",
       "      <td>NaN</td>\n",
       "      <td>NaN</td>\n",
       "      <td>NaN</td>\n",
       "      <td>NaN</td>\n",
       "      <td>NaN</td>\n",
       "    </tr>\n",
       "    <tr>\n",
       "      <th>2013-10-02</th>\n",
       "      <td>125.45500</td>\n",
       "      <td>25</td>\n",
       "      <td>123.65499</td>\n",
       "      <td>NaN</td>\n",
       "      <td>NaN</td>\n",
       "      <td>NaN</td>\n",
       "      <td>NaN</td>\n",
       "      <td>NaN</td>\n",
       "      <td>NaN</td>\n",
       "    </tr>\n",
       "    <tr>\n",
       "      <th>2013-10-03</th>\n",
       "      <td>108.58483</td>\n",
       "      <td>25</td>\n",
       "      <td>125.45500</td>\n",
       "      <td>123.65499</td>\n",
       "      <td>NaN</td>\n",
       "      <td>NaN</td>\n",
       "      <td>NaN</td>\n",
       "      <td>NaN</td>\n",
       "      <td>NaN</td>\n",
       "    </tr>\n",
       "    <tr>\n",
       "      <th>2013-10-04</th>\n",
       "      <td>118.67466</td>\n",
       "      <td>25</td>\n",
       "      <td>108.58483</td>\n",
       "      <td>125.45500</td>\n",
       "      <td>123.65499</td>\n",
       "      <td>NaN</td>\n",
       "      <td>NaN</td>\n",
       "      <td>NaN</td>\n",
       "      <td>NaN</td>\n",
       "    </tr>\n",
       "    <tr>\n",
       "      <th>2013-10-05</th>\n",
       "      <td>121.33866</td>\n",
       "      <td>25</td>\n",
       "      <td>118.67466</td>\n",
       "      <td>108.58483</td>\n",
       "      <td>125.45500</td>\n",
       "      <td>123.65499</td>\n",
       "      <td>NaN</td>\n",
       "      <td>NaN</td>\n",
       "      <td>NaN</td>\n",
       "    </tr>\n",
       "    <tr>\n",
       "      <th>2013-10-06</th>\n",
       "      <td>120.65533</td>\n",
       "      <td>25</td>\n",
       "      <td>121.33866</td>\n",
       "      <td>118.67466</td>\n",
       "      <td>108.58483</td>\n",
       "      <td>125.45500</td>\n",
       "      <td>123.65499</td>\n",
       "      <td>NaN</td>\n",
       "      <td>NaN</td>\n",
       "    </tr>\n",
       "    <tr>\n",
       "      <th>2013-10-07</th>\n",
       "      <td>121.79500</td>\n",
       "      <td>25</td>\n",
       "      <td>120.65533</td>\n",
       "      <td>121.33866</td>\n",
       "      <td>118.67466</td>\n",
       "      <td>108.58483</td>\n",
       "      <td>125.45500</td>\n",
       "      <td>123.65499</td>\n",
       "      <td>NaN</td>\n",
       "    </tr>\n",
       "    <tr>\n",
       "      <th>2013-10-08</th>\n",
       "      <td>123.03300</td>\n",
       "      <td>25</td>\n",
       "      <td>121.79500</td>\n",
       "      <td>120.65533</td>\n",
       "      <td>121.33866</td>\n",
       "      <td>118.67466</td>\n",
       "      <td>108.58483</td>\n",
       "      <td>125.45500</td>\n",
       "      <td>123.65499</td>\n",
       "    </tr>\n",
       "    <tr>\n",
       "      <th>2013-10-09</th>\n",
       "      <td>124.04900</td>\n",
       "      <td>25</td>\n",
       "      <td>123.03300</td>\n",
       "      <td>121.79500</td>\n",
       "      <td>120.65533</td>\n",
       "      <td>121.33866</td>\n",
       "      <td>118.67466</td>\n",
       "      <td>108.58483</td>\n",
       "      <td>125.45500</td>\n",
       "    </tr>\n",
       "    <tr>\n",
       "      <th>2013-10-10</th>\n",
       "      <td>125.96116</td>\n",
       "      <td>25</td>\n",
       "      <td>124.04900</td>\n",
       "      <td>123.03300</td>\n",
       "      <td>121.79500</td>\n",
       "      <td>120.65533</td>\n",
       "      <td>121.33866</td>\n",
       "      <td>118.67466</td>\n",
       "      <td>108.58483</td>\n",
       "    </tr>\n",
       "  </tbody>\n",
       "</table>\n",
       "</div>"
      ],
      "text/plain": [
       "                Price block_reward    Price+1    Price+2    Price+3  \\\n",
       "Date                                                                  \n",
       "2013-10-01  123.65499           25        NaN        NaN        NaN   \n",
       "2013-10-02  125.45500           25  123.65499        NaN        NaN   \n",
       "2013-10-03  108.58483           25  125.45500  123.65499        NaN   \n",
       "2013-10-04  118.67466           25  108.58483  125.45500  123.65499   \n",
       "2013-10-05  121.33866           25  118.67466  108.58483  125.45500   \n",
       "2013-10-06  120.65533           25  121.33866  118.67466  108.58483   \n",
       "2013-10-07  121.79500           25  120.65533  121.33866  118.67466   \n",
       "2013-10-08  123.03300           25  121.79500  120.65533  121.33866   \n",
       "2013-10-09  124.04900           25  123.03300  121.79500  120.65533   \n",
       "2013-10-10  125.96116           25  124.04900  123.03300  121.79500   \n",
       "\n",
       "              Price+4    Price+5    Price+6    Price+7  \n",
       "Date                                                    \n",
       "2013-10-01        NaN        NaN        NaN        NaN  \n",
       "2013-10-02        NaN        NaN        NaN        NaN  \n",
       "2013-10-03        NaN        NaN        NaN        NaN  \n",
       "2013-10-04        NaN        NaN        NaN        NaN  \n",
       "2013-10-05  123.65499        NaN        NaN        NaN  \n",
       "2013-10-06  125.45500  123.65499        NaN        NaN  \n",
       "2013-10-07  108.58483  125.45500  123.65499        NaN  \n",
       "2013-10-08  118.67466  108.58483  125.45500  123.65499  \n",
       "2013-10-09  121.33866  118.67466  108.58483  125.45500  \n",
       "2013-10-10  120.65533  121.33866  118.67466  108.58483  "
      ]
     },
     "execution_count": 56,
     "metadata": {},
     "output_type": "execute_result"
    }
   ],
   "source": [
    "bitcoin_prices_windowed = bitcoin_prices_block.copy()\n",
    "\n",
    "# Add windowed columns\n",
    "for i in range(WINDOW_SIZE): # Shift values for each step in WINDOW_SIZE\n",
    "  bitcoin_prices_windowed[f\"Price+{i+1}\"] = bitcoin_prices_windowed[\"Price\"].shift(periods=i+1)\n",
    "bitcoin_prices_windowed.head(10)"
   ]
  },
  {
   "cell_type": "code",
   "execution_count": 57,
   "metadata": {},
   "outputs": [
    {
     "data": {
      "text/html": [
       "<div>\n",
       "<style scoped>\n",
       "    .dataframe tbody tr th:only-of-type {\n",
       "        vertical-align: middle;\n",
       "    }\n",
       "\n",
       "    .dataframe tbody tr th {\n",
       "        vertical-align: top;\n",
       "    }\n",
       "\n",
       "    .dataframe thead th {\n",
       "        text-align: right;\n",
       "    }\n",
       "</style>\n",
       "<table border=\"1\" class=\"dataframe\">\n",
       "  <thead>\n",
       "    <tr style=\"text-align: right;\">\n",
       "      <th></th>\n",
       "      <th>Price</th>\n",
       "      <th>block_reward</th>\n",
       "      <th>Price+1</th>\n",
       "      <th>Price+2</th>\n",
       "      <th>Price+3</th>\n",
       "      <th>Price+4</th>\n",
       "      <th>Price+5</th>\n",
       "      <th>Price+6</th>\n",
       "      <th>Price+7</th>\n",
       "    </tr>\n",
       "    <tr>\n",
       "      <th>Date</th>\n",
       "      <th></th>\n",
       "      <th></th>\n",
       "      <th></th>\n",
       "      <th></th>\n",
       "      <th></th>\n",
       "      <th></th>\n",
       "      <th></th>\n",
       "      <th></th>\n",
       "      <th></th>\n",
       "    </tr>\n",
       "  </thead>\n",
       "  <tbody>\n",
       "    <tr>\n",
       "      <th>2013-10-01</th>\n",
       "      <td>123.65499</td>\n",
       "      <td>25</td>\n",
       "      <td>NaN</td>\n",
       "      <td>NaN</td>\n",
       "      <td>NaN</td>\n",
       "      <td>NaN</td>\n",
       "      <td>NaN</td>\n",
       "      <td>NaN</td>\n",
       "      <td>NaN</td>\n",
       "    </tr>\n",
       "    <tr>\n",
       "      <th>2013-10-02</th>\n",
       "      <td>125.45500</td>\n",
       "      <td>25</td>\n",
       "      <td>123.65499</td>\n",
       "      <td>NaN</td>\n",
       "      <td>NaN</td>\n",
       "      <td>NaN</td>\n",
       "      <td>NaN</td>\n",
       "      <td>NaN</td>\n",
       "      <td>NaN</td>\n",
       "    </tr>\n",
       "    <tr>\n",
       "      <th>2013-10-03</th>\n",
       "      <td>108.58483</td>\n",
       "      <td>25</td>\n",
       "      <td>125.45500</td>\n",
       "      <td>123.65499</td>\n",
       "      <td>NaN</td>\n",
       "      <td>NaN</td>\n",
       "      <td>NaN</td>\n",
       "      <td>NaN</td>\n",
       "      <td>NaN</td>\n",
       "    </tr>\n",
       "    <tr>\n",
       "      <th>2013-10-04</th>\n",
       "      <td>118.67466</td>\n",
       "      <td>25</td>\n",
       "      <td>108.58483</td>\n",
       "      <td>125.45500</td>\n",
       "      <td>123.65499</td>\n",
       "      <td>NaN</td>\n",
       "      <td>NaN</td>\n",
       "      <td>NaN</td>\n",
       "      <td>NaN</td>\n",
       "    </tr>\n",
       "    <tr>\n",
       "      <th>2013-10-05</th>\n",
       "      <td>121.33866</td>\n",
       "      <td>25</td>\n",
       "      <td>118.67466</td>\n",
       "      <td>108.58483</td>\n",
       "      <td>125.45500</td>\n",
       "      <td>123.65499</td>\n",
       "      <td>NaN</td>\n",
       "      <td>NaN</td>\n",
       "      <td>NaN</td>\n",
       "    </tr>\n",
       "  </tbody>\n",
       "</table>\n",
       "</div>"
      ],
      "text/plain": [
       "                Price block_reward    Price+1    Price+2    Price+3  \\\n",
       "Date                                                                  \n",
       "2013-10-01  123.65499           25        NaN        NaN        NaN   \n",
       "2013-10-02  125.45500           25  123.65499        NaN        NaN   \n",
       "2013-10-03  108.58483           25  125.45500  123.65499        NaN   \n",
       "2013-10-04  118.67466           25  108.58483  125.45500  123.65499   \n",
       "2013-10-05  121.33866           25  118.67466  108.58483  125.45500   \n",
       "\n",
       "              Price+4  Price+5  Price+6  Price+7  \n",
       "Date                                              \n",
       "2013-10-01        NaN      NaN      NaN      NaN  \n",
       "2013-10-02        NaN      NaN      NaN      NaN  \n",
       "2013-10-03        NaN      NaN      NaN      NaN  \n",
       "2013-10-04        NaN      NaN      NaN      NaN  \n",
       "2013-10-05  123.65499      NaN      NaN      NaN  "
      ]
     },
     "execution_count": 57,
     "metadata": {},
     "output_type": "execute_result"
    }
   ],
   "source": [
    "bitcoin_prices_windowed.head()"
   ]
  },
  {
   "cell_type": "code",
   "execution_count": 58,
   "metadata": {},
   "outputs": [],
   "source": [
    "# Train model on entire data to make prediction for the next day \n",
    "X_all = bitcoin_prices_windowed.drop([\"Price\", \"block_reward\"], axis=1).dropna().to_numpy() # only want prices, our future model can be a univariate model\n",
    "y_all = bitcoin_prices_windowed.dropna()[\"Price\"].to_numpy()"
   ]
  },
  {
   "cell_type": "code",
   "execution_count": 59,
   "metadata": {},
   "outputs": [
    {
     "data": {
      "text/plain": [
       "<PrefetchDataset shapes: ((None, 7), (None,)), types: (tf.float64, tf.float64)>"
      ]
     },
     "execution_count": 59,
     "metadata": {},
     "output_type": "execute_result"
    }
   ],
   "source": [
    "# 1. Turn X and y into tensor Datasets\n",
    "features_dataset_all = tf.data.Dataset.from_tensor_slices(X_all)\n",
    "labels_dataset_all = tf.data.Dataset.from_tensor_slices(y_all)\n",
    "\n",
    "# 2. Combine features & labels\n",
    "dataset_all = tf.data.Dataset.zip((features_dataset_all, labels_dataset_all))\n",
    "\n",
    "# 3. Batch and prefetch for optimal performance\n",
    "BATCH_SIZE = 1024 # taken from Appendix D in N-BEATS paper\n",
    "dataset_all = dataset_all.batch(BATCH_SIZE).prefetch(tf.data.AUTOTUNE)\n",
    "\n",
    "dataset_all"
   ]
  },
  {
   "cell_type": "code",
   "execution_count": 60,
   "metadata": {},
   "outputs": [
    {
     "data": {
      "text/plain": [
       "<keras.callbacks.History at 0x27371a43a90>"
      ]
     },
     "execution_count": 60,
     "metadata": {},
     "output_type": "execute_result"
    }
   ],
   "source": [
    "tf.random.set_seed(42)\n",
    "\n",
    "# Create model (nice and simple, just to test)\n",
    "model_9 = tf.keras.Sequential([\n",
    "  layers.Dense(128, activation=\"relu\"),\n",
    "  layers.Dense(128, activation=\"relu\"),\n",
    "  layers.Dense(HORIZON)\n",
    "])\n",
    "\n",
    "# Compile\n",
    "model_9.compile(loss=tf.keras.losses.mae,\n",
    "                optimizer=tf.keras.optimizers.Adam())\n",
    "\n",
    "# Fit model on all of the data to make future forecasts\n",
    "model_9.fit(dataset_all,\n",
    "            epochs=100,\n",
    "            verbose=0) # don't print out anything, we've seen this all before"
   ]
  },
  {
   "cell_type": "code",
   "execution_count": 61,
   "metadata": {},
   "outputs": [],
   "source": [
    "# How many timesteps to predict into the future?\n",
    "INTO_FUTURE = 14 # since our Bitcoin data is daily, this is for 14 days"
   ]
  },
  {
   "cell_type": "code",
   "execution_count": 62,
   "metadata": {},
   "outputs": [],
   "source": [
    "# 1. Create function to make predictions into the future\n",
    "def make_future_forecast(values, model, into_future, window_size=WINDOW_SIZE) -> list:\n",
    "  \"\"\"\n",
    "  Makes future forecasts into_future steps after values ends.\n",
    "\n",
    "  Returns future forecasts as list of floats.\n",
    "  \"\"\"\n",
    "  # 2. Make an empty list for future forecasts/prepare data to forecast on\n",
    "  future_forecast = []\n",
    "  last_window = values[-WINDOW_SIZE:] # only want preds from the last window (this will get updated)\n",
    "\n",
    "  # 3. Make INTO_FUTURE number of predictions, altering the data which gets predicted on each time \n",
    "  for _ in range(into_future):\n",
    "    \n",
    "    # Predict on last window then append it again, again, again (model starts to make forecasts on its own forecasts)\n",
    "    future_pred = model.predict(tf.expand_dims(last_window, axis=0))\n",
    "    print(f\"Predicting on: \\n {last_window} -> Prediction: {tf.squeeze(future_pred).numpy()}\\n\")\n",
    "    \n",
    "    # Append predictions to future_forecast\n",
    "    future_forecast.append(tf.squeeze(future_pred).numpy())\n",
    "    # print(future_forecast)\n",
    "\n",
    "    # Update last window with new pred and get WINDOW_SIZE most recent preds (model was trained on WINDOW_SIZE windows)\n",
    "    last_window = np.append(last_window, future_pred)[-WINDOW_SIZE:]\n",
    "  \n",
    "  return future_forecast"
   ]
  },
  {
   "cell_type": "code",
   "execution_count": 63,
   "metadata": {},
   "outputs": [
    {
     "name": "stdout",
     "output_type": "stream",
     "text": [
      "Predicting on: \n",
      " [56573.5554719  52147.82118698 49764.1320816  50032.69313676\n",
      " 47885.62525472 45604.61575361 43144.47129086] -> Prediction: 55817.91796875\n",
      "\n",
      "Predicting on: \n",
      " [52147.82118698 49764.1320816  50032.69313676 47885.62525472\n",
      " 45604.61575361 43144.47129086 55817.91796875] -> Prediction: 51045.94921875\n",
      "\n",
      "Predicting on: \n",
      " [49764.1320816  50032.69313676 47885.62525472 45604.61575361\n",
      " 43144.47129086 55817.91796875 51045.94921875] -> Prediction: 48894.76953125\n",
      "\n",
      "Predicting on: \n",
      " [50032.69313676 47885.62525472 45604.61575361 43144.47129086\n",
      " 55817.91796875 51045.94921875 48894.76953125] -> Prediction: 48322.51953125\n",
      "\n",
      "Predicting on: \n",
      " [47885.62525472 45604.61575361 43144.47129086 55817.91796875\n",
      " 51045.94921875 48894.76953125 48322.51953125] -> Prediction: 47821.6015625\n",
      "\n",
      "Predicting on: \n",
      " [45604.61575361 43144.47129086 55817.91796875 51045.94921875\n",
      " 48894.76953125 48322.51953125 47821.6015625 ] -> Prediction: 46980.421875\n",
      "\n",
      "Predicting on: \n",
      " [43144.47129086 55817.91796875 51045.94921875 48894.76953125\n",
      " 48322.51953125 47821.6015625  46980.421875  ] -> Prediction: 48484.83984375\n",
      "\n",
      "Predicting on: \n",
      " [55817.91796875 51045.94921875 48894.76953125 48322.51953125\n",
      " 47821.6015625  46980.421875   48484.83984375] -> Prediction: 54123.4921875\n",
      "\n",
      "Predicting on: \n",
      " [51045.94921875 48894.76953125 48322.51953125 47821.6015625\n",
      " 46980.421875   48484.83984375 54123.4921875 ] -> Prediction: 49909.2734375\n",
      "\n",
      "Predicting on: \n",
      " [48894.76953125 48322.51953125 47821.6015625  46980.421875\n",
      " 48484.83984375 54123.4921875  49909.2734375 ] -> Prediction: 48031.7578125\n",
      "\n",
      "Predicting on: \n",
      " [48322.51953125 47821.6015625  46980.421875   48484.83984375\n",
      " 54123.4921875  49909.2734375  48031.7578125 ] -> Prediction: 48342.16796875\n",
      "\n",
      "Predicting on: \n",
      " [47821.6015625  46980.421875   48484.83984375 54123.4921875\n",
      " 49909.2734375  48031.7578125  48342.16796875] -> Prediction: 48831.85546875\n",
      "\n",
      "Predicting on: \n",
      " [46980.421875   48484.83984375 54123.4921875  49909.2734375\n",
      " 48031.7578125  48342.16796875 48831.85546875] -> Prediction: 48916.9453125\n",
      "\n",
      "Predicting on: \n",
      " [48484.83984375 54123.4921875  49909.2734375  48031.7578125\n",
      " 48342.16796875 48831.85546875 48916.9453125 ] -> Prediction: 50602.89453125\n",
      "\n"
     ]
    }
   ],
   "source": [
    "# Make forecasts into future of the price of Bitcoin\n",
    "# Note: if you're reading this at a later date, you may already be in the future, so the forecasts \n",
    "# we're making may not actually be forecasts, if that's the case, readjust the training data.\n",
    "future_forecast = make_future_forecast(values=y_all,\n",
    "                                       model=model_9,\n",
    "                                       into_future=INTO_FUTURE,\n",
    "                                       window_size=WINDOW_SIZE)"
   ]
  },
  {
   "cell_type": "code",
   "execution_count": 64,
   "metadata": {},
   "outputs": [
    {
     "data": {
      "text/plain": [
       "[55817.918,\n",
       " 51045.95,\n",
       " 48894.77,\n",
       " 48322.52,\n",
       " 47821.6,\n",
       " 46980.42,\n",
       " 48484.84,\n",
       " 54123.492,\n",
       " 49909.273,\n",
       " 48031.758]"
      ]
     },
     "execution_count": 64,
     "metadata": {},
     "output_type": "execute_result"
    }
   ],
   "source": [
    "future_forecast[:10]"
   ]
  },
  {
   "cell_type": "code",
   "execution_count": 65,
   "metadata": {},
   "outputs": [],
   "source": [
    "def get_future_dates(start_date, into_future, offset=1):\n",
    "  \"\"\"\n",
    "  Returns array of datetime values from ranging from start_date to start_date+horizon.\n",
    "\n",
    "  start_date: date to start range (np.datetime64)\n",
    "  into_future: number of days to add onto start date for range (int)\n",
    "  offset: number of days to offset start_date by (default 1)\n",
    "  \"\"\"\n",
    "  start_date = start_date + np.timedelta64(offset, \"D\") # specify start date, \"D\" stands for day\n",
    "  end_date = start_date + np.timedelta64(into_future, \"D\") # specify end date\n",
    "  return np.arange(start_date, end_date, dtype=\"datetime64[D]\") # return a date range between start date and end d"
   ]
  },
  {
   "cell_type": "code",
   "execution_count": 68,
   "metadata": {},
   "outputs": [
    {
     "data": {
      "text/plain": [
       "Timestamp('2021-05-18 00:00:00')"
      ]
     },
     "execution_count": 68,
     "metadata": {},
     "output_type": "execute_result"
    }
   ],
   "source": [
    "# Last timestep of timesteps (currently in np.datetime64 format)\n",
    "last_timestep = bitcoin_prices.index[-1]\n",
    "last_timestep"
   ]
  },
  {
   "cell_type": "code",
   "execution_count": 69,
   "metadata": {},
   "outputs": [
    {
     "data": {
      "text/plain": [
       "array(['2021-05-19', '2021-05-20', '2021-05-21', '2021-05-22',\n",
       "       '2021-05-23', '2021-05-24', '2021-05-25', '2021-05-26',\n",
       "       '2021-05-27', '2021-05-28', '2021-05-29', '2021-05-30',\n",
       "       '2021-05-31', '2021-06-01'], dtype='datetime64[D]')"
      ]
     },
     "execution_count": 69,
     "metadata": {},
     "output_type": "execute_result"
    }
   ],
   "source": [
    "# Get next two weeks of timesteps\n",
    "next_time_steps = get_future_dates(start_date=last_timestep, \n",
    "                                   into_future=INTO_FUTURE)\n",
    "next_time_steps"
   ]
  },
  {
   "cell_type": "markdown",
   "metadata": {},
   "source": [
    "More details and reference from here (on how to predict actual future on time series data)\n",
    "https://github.com/mrdbourke/tensorflow-deep-learning/blob/main/10_time_series_forecasting_in_tensorflow.ipynb"
   ]
  },
  {
   "cell_type": "code",
   "execution_count": null,
   "metadata": {},
   "outputs": [],
   "source": []
  }
 ],
 "metadata": {
  "interpreter": {
   "hash": "d76396febbd0a733882b1458c3ee4a5c8a662d67033c926e5be313f23d66902e"
  },
  "kernelspec": {
   "display_name": "Python 3.9.7 ('ml')",
   "language": "python",
   "name": "python3"
  },
  "language_info": {
   "codemirror_mode": {
    "name": "ipython",
    "version": 3
   },
   "file_extension": ".py",
   "mimetype": "text/x-python",
   "name": "python",
   "nbconvert_exporter": "python",
   "pygments_lexer": "ipython3",
   "version": "3.9.7"
  },
  "orig_nbformat": 4
 },
 "nbformat": 4,
 "nbformat_minor": 2
}
